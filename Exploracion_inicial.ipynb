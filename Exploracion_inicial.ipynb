{
 "cells": [
  {
   "cell_type": "code",
   "execution_count": 41,
   "id": "7e7747d6",
   "metadata": {},
   "outputs": [],
   "source": [
    "import pandas as pd\n",
    "import numpy as np\n",
    "from sklearn.model_selection import train_test_split\n",
    "import seaborn as sns\n",
    "import joblib"
   ]
  },
  {
   "cell_type": "code",
   "execution_count": 42,
   "id": "96d772b7",
   "metadata": {},
   "outputs": [],
   "source": [
    "df = pd.read_csv(\"s3://german-credit-20221001/datos/original/german_credit_data.csv\")"
   ]
  },
  {
   "cell_type": "code",
   "execution_count": 43,
   "id": "f9e1a9de",
   "metadata": {},
   "outputs": [
    {
     "data": {
      "text/html": [
       "<div>\n",
       "<style scoped>\n",
       "    .dataframe tbody tr th:only-of-type {\n",
       "        vertical-align: middle;\n",
       "    }\n",
       "\n",
       "    .dataframe tbody tr th {\n",
       "        vertical-align: top;\n",
       "    }\n",
       "\n",
       "    .dataframe thead th {\n",
       "        text-align: right;\n",
       "    }\n",
       "</style>\n",
       "<table border=\"1\" class=\"dataframe\">\n",
       "  <thead>\n",
       "    <tr style=\"text-align: right;\">\n",
       "      <th></th>\n",
       "      <th>Unnamed: 0</th>\n",
       "      <th>Age</th>\n",
       "      <th>Sex</th>\n",
       "      <th>Job</th>\n",
       "      <th>Housing</th>\n",
       "      <th>Saving accounts</th>\n",
       "      <th>Checking account</th>\n",
       "      <th>Credit amount</th>\n",
       "      <th>Duration</th>\n",
       "      <th>Purpose</th>\n",
       "      <th>Risk</th>\n",
       "    </tr>\n",
       "  </thead>\n",
       "  <tbody>\n",
       "    <tr>\n",
       "      <th>0</th>\n",
       "      <td>0</td>\n",
       "      <td>67</td>\n",
       "      <td>male</td>\n",
       "      <td>2</td>\n",
       "      <td>own</td>\n",
       "      <td>NaN</td>\n",
       "      <td>little</td>\n",
       "      <td>1169</td>\n",
       "      <td>6</td>\n",
       "      <td>radio/TV</td>\n",
       "      <td>good</td>\n",
       "    </tr>\n",
       "    <tr>\n",
       "      <th>1</th>\n",
       "      <td>1</td>\n",
       "      <td>22</td>\n",
       "      <td>female</td>\n",
       "      <td>2</td>\n",
       "      <td>own</td>\n",
       "      <td>little</td>\n",
       "      <td>moderate</td>\n",
       "      <td>5951</td>\n",
       "      <td>48</td>\n",
       "      <td>radio/TV</td>\n",
       "      <td>bad</td>\n",
       "    </tr>\n",
       "    <tr>\n",
       "      <th>2</th>\n",
       "      <td>2</td>\n",
       "      <td>49</td>\n",
       "      <td>male</td>\n",
       "      <td>1</td>\n",
       "      <td>own</td>\n",
       "      <td>little</td>\n",
       "      <td>NaN</td>\n",
       "      <td>2096</td>\n",
       "      <td>12</td>\n",
       "      <td>education</td>\n",
       "      <td>good</td>\n",
       "    </tr>\n",
       "    <tr>\n",
       "      <th>3</th>\n",
       "      <td>3</td>\n",
       "      <td>45</td>\n",
       "      <td>male</td>\n",
       "      <td>2</td>\n",
       "      <td>free</td>\n",
       "      <td>little</td>\n",
       "      <td>little</td>\n",
       "      <td>7882</td>\n",
       "      <td>42</td>\n",
       "      <td>furniture/equipment</td>\n",
       "      <td>good</td>\n",
       "    </tr>\n",
       "    <tr>\n",
       "      <th>4</th>\n",
       "      <td>4</td>\n",
       "      <td>53</td>\n",
       "      <td>male</td>\n",
       "      <td>2</td>\n",
       "      <td>free</td>\n",
       "      <td>little</td>\n",
       "      <td>little</td>\n",
       "      <td>4870</td>\n",
       "      <td>24</td>\n",
       "      <td>car</td>\n",
       "      <td>bad</td>\n",
       "    </tr>\n",
       "    <tr>\n",
       "      <th>...</th>\n",
       "      <td>...</td>\n",
       "      <td>...</td>\n",
       "      <td>...</td>\n",
       "      <td>...</td>\n",
       "      <td>...</td>\n",
       "      <td>...</td>\n",
       "      <td>...</td>\n",
       "      <td>...</td>\n",
       "      <td>...</td>\n",
       "      <td>...</td>\n",
       "      <td>...</td>\n",
       "    </tr>\n",
       "    <tr>\n",
       "      <th>995</th>\n",
       "      <td>995</td>\n",
       "      <td>31</td>\n",
       "      <td>female</td>\n",
       "      <td>1</td>\n",
       "      <td>own</td>\n",
       "      <td>little</td>\n",
       "      <td>NaN</td>\n",
       "      <td>1736</td>\n",
       "      <td>12</td>\n",
       "      <td>furniture/equipment</td>\n",
       "      <td>good</td>\n",
       "    </tr>\n",
       "    <tr>\n",
       "      <th>996</th>\n",
       "      <td>996</td>\n",
       "      <td>40</td>\n",
       "      <td>male</td>\n",
       "      <td>3</td>\n",
       "      <td>own</td>\n",
       "      <td>little</td>\n",
       "      <td>little</td>\n",
       "      <td>3857</td>\n",
       "      <td>30</td>\n",
       "      <td>car</td>\n",
       "      <td>good</td>\n",
       "    </tr>\n",
       "    <tr>\n",
       "      <th>997</th>\n",
       "      <td>997</td>\n",
       "      <td>38</td>\n",
       "      <td>male</td>\n",
       "      <td>2</td>\n",
       "      <td>own</td>\n",
       "      <td>little</td>\n",
       "      <td>NaN</td>\n",
       "      <td>804</td>\n",
       "      <td>12</td>\n",
       "      <td>radio/TV</td>\n",
       "      <td>good</td>\n",
       "    </tr>\n",
       "    <tr>\n",
       "      <th>998</th>\n",
       "      <td>998</td>\n",
       "      <td>23</td>\n",
       "      <td>male</td>\n",
       "      <td>2</td>\n",
       "      <td>free</td>\n",
       "      <td>little</td>\n",
       "      <td>little</td>\n",
       "      <td>1845</td>\n",
       "      <td>45</td>\n",
       "      <td>radio/TV</td>\n",
       "      <td>bad</td>\n",
       "    </tr>\n",
       "    <tr>\n",
       "      <th>999</th>\n",
       "      <td>999</td>\n",
       "      <td>27</td>\n",
       "      <td>male</td>\n",
       "      <td>2</td>\n",
       "      <td>own</td>\n",
       "      <td>moderate</td>\n",
       "      <td>moderate</td>\n",
       "      <td>4576</td>\n",
       "      <td>45</td>\n",
       "      <td>car</td>\n",
       "      <td>good</td>\n",
       "    </tr>\n",
       "  </tbody>\n",
       "</table>\n",
       "<p>1000 rows × 11 columns</p>\n",
       "</div>"
      ],
      "text/plain": [
       "     Unnamed: 0  Age     Sex  Job Housing Saving accounts Checking account  \\\n",
       "0             0   67    male    2     own             NaN           little   \n",
       "1             1   22  female    2     own          little         moderate   \n",
       "2             2   49    male    1     own          little              NaN   \n",
       "3             3   45    male    2    free          little           little   \n",
       "4             4   53    male    2    free          little           little   \n",
       "..          ...  ...     ...  ...     ...             ...              ...   \n",
       "995         995   31  female    1     own          little              NaN   \n",
       "996         996   40    male    3     own          little           little   \n",
       "997         997   38    male    2     own          little              NaN   \n",
       "998         998   23    male    2    free          little           little   \n",
       "999         999   27    male    2     own        moderate         moderate   \n",
       "\n",
       "     Credit amount  Duration              Purpose  Risk  \n",
       "0             1169         6             radio/TV  good  \n",
       "1             5951        48             radio/TV   bad  \n",
       "2             2096        12            education  good  \n",
       "3             7882        42  furniture/equipment  good  \n",
       "4             4870        24                  car   bad  \n",
       "..             ...       ...                  ...   ...  \n",
       "995           1736        12  furniture/equipment  good  \n",
       "996           3857        30                  car  good  \n",
       "997            804        12             radio/TV  good  \n",
       "998           1845        45             radio/TV   bad  \n",
       "999           4576        45                  car  good  \n",
       "\n",
       "[1000 rows x 11 columns]"
      ]
     },
     "execution_count": 43,
     "metadata": {},
     "output_type": "execute_result"
    }
   ],
   "source": [
    "df"
   ]
  },
  {
   "cell_type": "code",
   "execution_count": 44,
   "id": "19842443",
   "metadata": {},
   "outputs": [
    {
     "name": "stdout",
     "output_type": "stream",
     "text": [
      "<class 'pandas.core.frame.DataFrame'>\n",
      "RangeIndex: 1000 entries, 0 to 999\n",
      "Data columns (total 11 columns):\n",
      " #   Column            Non-Null Count  Dtype \n",
      "---  ------            --------------  ----- \n",
      " 0   Unnamed: 0        1000 non-null   int64 \n",
      " 1   Age               1000 non-null   int64 \n",
      " 2   Sex               1000 non-null   object\n",
      " 3   Job               1000 non-null   int64 \n",
      " 4   Housing           1000 non-null   object\n",
      " 5   Saving accounts   817 non-null    object\n",
      " 6   Checking account  606 non-null    object\n",
      " 7   Credit amount     1000 non-null   int64 \n",
      " 8   Duration          1000 non-null   int64 \n",
      " 9   Purpose           1000 non-null   object\n",
      " 10  Risk              1000 non-null   object\n",
      "dtypes: int64(5), object(6)\n",
      "memory usage: 86.1+ KB\n"
     ]
    }
   ],
   "source": [
    "df.info()"
   ]
  },
  {
   "cell_type": "code",
   "execution_count": 45,
   "id": "a54a9345",
   "metadata": {},
   "outputs": [
    {
     "data": {
      "text/html": [
       "<div>\n",
       "<style scoped>\n",
       "    .dataframe tbody tr th:only-of-type {\n",
       "        vertical-align: middle;\n",
       "    }\n",
       "\n",
       "    .dataframe tbody tr th {\n",
       "        vertical-align: top;\n",
       "    }\n",
       "\n",
       "    .dataframe thead th {\n",
       "        text-align: right;\n",
       "    }\n",
       "</style>\n",
       "<table border=\"1\" class=\"dataframe\">\n",
       "  <thead>\n",
       "    <tr style=\"text-align: right;\">\n",
       "      <th></th>\n",
       "      <th>Unnamed: 0</th>\n",
       "      <th>Age</th>\n",
       "      <th>Job</th>\n",
       "      <th>Credit amount</th>\n",
       "      <th>Duration</th>\n",
       "    </tr>\n",
       "  </thead>\n",
       "  <tbody>\n",
       "    <tr>\n",
       "      <th>count</th>\n",
       "      <td>1000.000000</td>\n",
       "      <td>1000.000000</td>\n",
       "      <td>1000.000000</td>\n",
       "      <td>1000.000000</td>\n",
       "      <td>1000.000000</td>\n",
       "    </tr>\n",
       "    <tr>\n",
       "      <th>mean</th>\n",
       "      <td>499.500000</td>\n",
       "      <td>35.546000</td>\n",
       "      <td>1.904000</td>\n",
       "      <td>3271.258000</td>\n",
       "      <td>20.903000</td>\n",
       "    </tr>\n",
       "    <tr>\n",
       "      <th>std</th>\n",
       "      <td>288.819436</td>\n",
       "      <td>11.375469</td>\n",
       "      <td>0.653614</td>\n",
       "      <td>2822.736876</td>\n",
       "      <td>12.058814</td>\n",
       "    </tr>\n",
       "    <tr>\n",
       "      <th>min</th>\n",
       "      <td>0.000000</td>\n",
       "      <td>19.000000</td>\n",
       "      <td>0.000000</td>\n",
       "      <td>250.000000</td>\n",
       "      <td>4.000000</td>\n",
       "    </tr>\n",
       "    <tr>\n",
       "      <th>25%</th>\n",
       "      <td>249.750000</td>\n",
       "      <td>27.000000</td>\n",
       "      <td>2.000000</td>\n",
       "      <td>1365.500000</td>\n",
       "      <td>12.000000</td>\n",
       "    </tr>\n",
       "    <tr>\n",
       "      <th>50%</th>\n",
       "      <td>499.500000</td>\n",
       "      <td>33.000000</td>\n",
       "      <td>2.000000</td>\n",
       "      <td>2319.500000</td>\n",
       "      <td>18.000000</td>\n",
       "    </tr>\n",
       "    <tr>\n",
       "      <th>75%</th>\n",
       "      <td>749.250000</td>\n",
       "      <td>42.000000</td>\n",
       "      <td>2.000000</td>\n",
       "      <td>3972.250000</td>\n",
       "      <td>24.000000</td>\n",
       "    </tr>\n",
       "    <tr>\n",
       "      <th>max</th>\n",
       "      <td>999.000000</td>\n",
       "      <td>75.000000</td>\n",
       "      <td>3.000000</td>\n",
       "      <td>18424.000000</td>\n",
       "      <td>72.000000</td>\n",
       "    </tr>\n",
       "  </tbody>\n",
       "</table>\n",
       "</div>"
      ],
      "text/plain": [
       "        Unnamed: 0          Age          Job  Credit amount     Duration\n",
       "count  1000.000000  1000.000000  1000.000000    1000.000000  1000.000000\n",
       "mean    499.500000    35.546000     1.904000    3271.258000    20.903000\n",
       "std     288.819436    11.375469     0.653614    2822.736876    12.058814\n",
       "min       0.000000    19.000000     0.000000     250.000000     4.000000\n",
       "25%     249.750000    27.000000     2.000000    1365.500000    12.000000\n",
       "50%     499.500000    33.000000     2.000000    2319.500000    18.000000\n",
       "75%     749.250000    42.000000     2.000000    3972.250000    24.000000\n",
       "max     999.000000    75.000000     3.000000   18424.000000    72.000000"
      ]
     },
     "execution_count": 45,
     "metadata": {},
     "output_type": "execute_result"
    }
   ],
   "source": [
    "df.describe()"
   ]
  },
  {
   "cell_type": "code",
   "execution_count": 46,
   "id": "be4bb10a",
   "metadata": {},
   "outputs": [
    {
     "data": {
      "text/plain": [
       "good    700\n",
       "bad     300\n",
       "Name: Risk, dtype: int64"
      ]
     },
     "execution_count": 46,
     "metadata": {},
     "output_type": "execute_result"
    }
   ],
   "source": [
    "df[\"Risk\"].value_counts()"
   ]
  },
  {
   "cell_type": "code",
   "execution_count": 47,
   "id": "6bd2ec48",
   "metadata": {},
   "outputs": [],
   "source": [
    "train, test = train_test_split(df, test_size=0.3, random_state=42, stratify=df[\"Risk\"])"
   ]
  },
  {
   "cell_type": "code",
   "execution_count": 48,
   "id": "5b342341",
   "metadata": {},
   "outputs": [
    {
     "data": {
      "text/plain": [
       "good    0.7\n",
       "bad     0.3\n",
       "Name: Risk, dtype: float64"
      ]
     },
     "execution_count": 48,
     "metadata": {},
     "output_type": "execute_result"
    }
   ],
   "source": [
    "train[\"Risk\"].value_counts()/train[\"Risk\"].count()"
   ]
  },
  {
   "cell_type": "code",
   "execution_count": 49,
   "id": "866d089a",
   "metadata": {},
   "outputs": [
    {
     "data": {
      "text/plain": [
       "good    0.7\n",
       "bad     0.3\n",
       "Name: Risk, dtype: float64"
      ]
     },
     "execution_count": 49,
     "metadata": {},
     "output_type": "execute_result"
    }
   ],
   "source": [
    "test[\"Risk\"].value_counts()/test[\"Risk\"].count()"
   ]
  },
  {
   "cell_type": "code",
   "execution_count": 50,
   "id": "1fbe134b",
   "metadata": {},
   "outputs": [],
   "source": [
    "train.to_csv(\"s3://german-credit-20221001/datos/train/train.csv\", index=False)"
   ]
  },
  {
   "cell_type": "code",
   "execution_count": 51,
   "id": "a09e31f3",
   "metadata": {},
   "outputs": [],
   "source": [
    "test.to_csv(\"s3://german-credit-20221001/datos/test/test.csv\")"
   ]
  },
  {
   "cell_type": "code",
   "execution_count": 52,
   "id": "d872c6d5",
   "metadata": {},
   "outputs": [
    {
     "data": {
      "text/html": [
       "<div>\n",
       "<style scoped>\n",
       "    .dataframe tbody tr th:only-of-type {\n",
       "        vertical-align: middle;\n",
       "    }\n",
       "\n",
       "    .dataframe tbody tr th {\n",
       "        vertical-align: top;\n",
       "    }\n",
       "\n",
       "    .dataframe thead th {\n",
       "        text-align: right;\n",
       "    }\n",
       "</style>\n",
       "<table border=\"1\" class=\"dataframe\">\n",
       "  <thead>\n",
       "    <tr style=\"text-align: right;\">\n",
       "      <th>Risk</th>\n",
       "      <th>bad</th>\n",
       "      <th>good</th>\n",
       "      <th>All</th>\n",
       "    </tr>\n",
       "    <tr>\n",
       "      <th>Housing</th>\n",
       "      <th></th>\n",
       "      <th></th>\n",
       "      <th></th>\n",
       "    </tr>\n",
       "  </thead>\n",
       "  <tbody>\n",
       "    <tr>\n",
       "      <th>free</th>\n",
       "      <td>29</td>\n",
       "      <td>45</td>\n",
       "      <td>74</td>\n",
       "    </tr>\n",
       "    <tr>\n",
       "      <th>own</th>\n",
       "      <td>133</td>\n",
       "      <td>371</td>\n",
       "      <td>504</td>\n",
       "    </tr>\n",
       "    <tr>\n",
       "      <th>rent</th>\n",
       "      <td>48</td>\n",
       "      <td>74</td>\n",
       "      <td>122</td>\n",
       "    </tr>\n",
       "    <tr>\n",
       "      <th>All</th>\n",
       "      <td>210</td>\n",
       "      <td>490</td>\n",
       "      <td>700</td>\n",
       "    </tr>\n",
       "  </tbody>\n",
       "</table>\n",
       "</div>"
      ],
      "text/plain": [
       "Risk     bad  good  All\n",
       "Housing                \n",
       "free      29    45   74\n",
       "own      133   371  504\n",
       "rent      48    74  122\n",
       "All      210   490  700"
      ]
     },
     "execution_count": 52,
     "metadata": {},
     "output_type": "execute_result"
    }
   ],
   "source": [
    "pd.crosstab(index=train[\"Housing\"], columns=train[\"Risk\"], margins=True)"
   ]
  },
  {
   "cell_type": "code",
   "execution_count": 53,
   "id": "3d679185",
   "metadata": {},
   "outputs": [
    {
     "data": {
      "text/html": [
       "<div>\n",
       "<style scoped>\n",
       "    .dataframe tbody tr th:only-of-type {\n",
       "        vertical-align: middle;\n",
       "    }\n",
       "\n",
       "    .dataframe tbody tr th {\n",
       "        vertical-align: top;\n",
       "    }\n",
       "\n",
       "    .dataframe thead th {\n",
       "        text-align: right;\n",
       "    }\n",
       "</style>\n",
       "<table border=\"1\" class=\"dataframe\">\n",
       "  <thead>\n",
       "    <tr style=\"text-align: right;\">\n",
       "      <th>Risk</th>\n",
       "      <th>bad</th>\n",
       "      <th>good</th>\n",
       "      <th>All</th>\n",
       "    </tr>\n",
       "    <tr>\n",
       "      <th>Duration</th>\n",
       "      <th></th>\n",
       "      <th></th>\n",
       "      <th></th>\n",
       "    </tr>\n",
       "  </thead>\n",
       "  <tbody>\n",
       "    <tr>\n",
       "      <th>4</th>\n",
       "      <td>0</td>\n",
       "      <td>6</td>\n",
       "      <td>6</td>\n",
       "    </tr>\n",
       "    <tr>\n",
       "      <th>6</th>\n",
       "      <td>7</td>\n",
       "      <td>49</td>\n",
       "      <td>56</td>\n",
       "    </tr>\n",
       "    <tr>\n",
       "      <th>7</th>\n",
       "      <td>0</td>\n",
       "      <td>2</td>\n",
       "      <td>2</td>\n",
       "    </tr>\n",
       "    <tr>\n",
       "      <th>8</th>\n",
       "      <td>1</td>\n",
       "      <td>3</td>\n",
       "      <td>4</td>\n",
       "    </tr>\n",
       "    <tr>\n",
       "      <th>9</th>\n",
       "      <td>7</td>\n",
       "      <td>26</td>\n",
       "      <td>33</td>\n",
       "    </tr>\n",
       "    <tr>\n",
       "      <th>10</th>\n",
       "      <td>3</td>\n",
       "      <td>19</td>\n",
       "      <td>22</td>\n",
       "    </tr>\n",
       "    <tr>\n",
       "      <th>11</th>\n",
       "      <td>0</td>\n",
       "      <td>5</td>\n",
       "      <td>5</td>\n",
       "    </tr>\n",
       "    <tr>\n",
       "      <th>12</th>\n",
       "      <td>37</td>\n",
       "      <td>83</td>\n",
       "      <td>120</td>\n",
       "    </tr>\n",
       "    <tr>\n",
       "      <th>13</th>\n",
       "      <td>0</td>\n",
       "      <td>3</td>\n",
       "      <td>3</td>\n",
       "    </tr>\n",
       "    <tr>\n",
       "      <th>14</th>\n",
       "      <td>1</td>\n",
       "      <td>3</td>\n",
       "      <td>4</td>\n",
       "    </tr>\n",
       "    <tr>\n",
       "      <th>15</th>\n",
       "      <td>7</td>\n",
       "      <td>38</td>\n",
       "      <td>45</td>\n",
       "    </tr>\n",
       "    <tr>\n",
       "      <th>16</th>\n",
       "      <td>1</td>\n",
       "      <td>1</td>\n",
       "      <td>2</td>\n",
       "    </tr>\n",
       "    <tr>\n",
       "      <th>18</th>\n",
       "      <td>30</td>\n",
       "      <td>48</td>\n",
       "      <td>78</td>\n",
       "    </tr>\n",
       "    <tr>\n",
       "      <th>20</th>\n",
       "      <td>0</td>\n",
       "      <td>4</td>\n",
       "      <td>4</td>\n",
       "    </tr>\n",
       "    <tr>\n",
       "      <th>21</th>\n",
       "      <td>8</td>\n",
       "      <td>16</td>\n",
       "      <td>24</td>\n",
       "    </tr>\n",
       "    <tr>\n",
       "      <th>22</th>\n",
       "      <td>0</td>\n",
       "      <td>2</td>\n",
       "      <td>2</td>\n",
       "    </tr>\n",
       "    <tr>\n",
       "      <th>24</th>\n",
       "      <td>36</td>\n",
       "      <td>88</td>\n",
       "      <td>124</td>\n",
       "    </tr>\n",
       "    <tr>\n",
       "      <th>26</th>\n",
       "      <td>0</td>\n",
       "      <td>1</td>\n",
       "      <td>1</td>\n",
       "    </tr>\n",
       "    <tr>\n",
       "      <th>27</th>\n",
       "      <td>0</td>\n",
       "      <td>7</td>\n",
       "      <td>7</td>\n",
       "    </tr>\n",
       "    <tr>\n",
       "      <th>28</th>\n",
       "      <td>1</td>\n",
       "      <td>2</td>\n",
       "      <td>3</td>\n",
       "    </tr>\n",
       "    <tr>\n",
       "      <th>30</th>\n",
       "      <td>10</td>\n",
       "      <td>25</td>\n",
       "      <td>35</td>\n",
       "    </tr>\n",
       "    <tr>\n",
       "      <th>33</th>\n",
       "      <td>1</td>\n",
       "      <td>1</td>\n",
       "      <td>2</td>\n",
       "    </tr>\n",
       "    <tr>\n",
       "      <th>36</th>\n",
       "      <td>24</td>\n",
       "      <td>27</td>\n",
       "      <td>51</td>\n",
       "    </tr>\n",
       "    <tr>\n",
       "      <th>39</th>\n",
       "      <td>1</td>\n",
       "      <td>2</td>\n",
       "      <td>3</td>\n",
       "    </tr>\n",
       "    <tr>\n",
       "      <th>40</th>\n",
       "      <td>1</td>\n",
       "      <td>0</td>\n",
       "      <td>1</td>\n",
       "    </tr>\n",
       "    <tr>\n",
       "      <th>42</th>\n",
       "      <td>3</td>\n",
       "      <td>7</td>\n",
       "      <td>10</td>\n",
       "    </tr>\n",
       "    <tr>\n",
       "      <th>45</th>\n",
       "      <td>2</td>\n",
       "      <td>1</td>\n",
       "      <td>3</td>\n",
       "    </tr>\n",
       "    <tr>\n",
       "      <th>47</th>\n",
       "      <td>0</td>\n",
       "      <td>1</td>\n",
       "      <td>1</td>\n",
       "    </tr>\n",
       "    <tr>\n",
       "      <th>48</th>\n",
       "      <td>24</td>\n",
       "      <td>13</td>\n",
       "      <td>37</td>\n",
       "    </tr>\n",
       "    <tr>\n",
       "      <th>54</th>\n",
       "      <td>1</td>\n",
       "      <td>1</td>\n",
       "      <td>2</td>\n",
       "    </tr>\n",
       "    <tr>\n",
       "      <th>60</th>\n",
       "      <td>3</td>\n",
       "      <td>6</td>\n",
       "      <td>9</td>\n",
       "    </tr>\n",
       "    <tr>\n",
       "      <th>72</th>\n",
       "      <td>1</td>\n",
       "      <td>0</td>\n",
       "      <td>1</td>\n",
       "    </tr>\n",
       "    <tr>\n",
       "      <th>All</th>\n",
       "      <td>210</td>\n",
       "      <td>490</td>\n",
       "      <td>700</td>\n",
       "    </tr>\n",
       "  </tbody>\n",
       "</table>\n",
       "</div>"
      ],
      "text/plain": [
       "Risk      bad  good  All\n",
       "Duration                \n",
       "4           0     6    6\n",
       "6           7    49   56\n",
       "7           0     2    2\n",
       "8           1     3    4\n",
       "9           7    26   33\n",
       "10          3    19   22\n",
       "11          0     5    5\n",
       "12         37    83  120\n",
       "13          0     3    3\n",
       "14          1     3    4\n",
       "15          7    38   45\n",
       "16          1     1    2\n",
       "18         30    48   78\n",
       "20          0     4    4\n",
       "21          8    16   24\n",
       "22          0     2    2\n",
       "24         36    88  124\n",
       "26          0     1    1\n",
       "27          0     7    7\n",
       "28          1     2    3\n",
       "30         10    25   35\n",
       "33          1     1    2\n",
       "36         24    27   51\n",
       "39          1     2    3\n",
       "40          1     0    1\n",
       "42          3     7   10\n",
       "45          2     1    3\n",
       "47          0     1    1\n",
       "48         24    13   37\n",
       "54          1     1    2\n",
       "60          3     6    9\n",
       "72          1     0    1\n",
       "All       210   490  700"
      ]
     },
     "execution_count": 53,
     "metadata": {},
     "output_type": "execute_result"
    }
   ],
   "source": [
    "pd.crosstab(index=train[\"Duration\"], columns=train[\"Risk\"], margins=True)"
   ]
  },
  {
   "cell_type": "code",
   "execution_count": 54,
   "id": "72f264d5",
   "metadata": {},
   "outputs": [],
   "source": [
    "tabla_sex =pd.crosstab(index=train[\"Sex\"], columns=train[\"Risk\"], margins=True)"
   ]
  },
  {
   "cell_type": "code",
   "execution_count": 55,
   "id": "47a5a068",
   "metadata": {},
   "outputs": [],
   "source": [
    "tabla_sex[\"proba\"] = tabla_sex.iloc[:,1]/tabla_sex.iloc[:,2]"
   ]
  },
  {
   "cell_type": "code",
   "execution_count": 56,
   "id": "d9f83c9e",
   "metadata": {},
   "outputs": [
    {
     "data": {
      "text/html": [
       "<div>\n",
       "<style scoped>\n",
       "    .dataframe tbody tr th:only-of-type {\n",
       "        vertical-align: middle;\n",
       "    }\n",
       "\n",
       "    .dataframe tbody tr th {\n",
       "        vertical-align: top;\n",
       "    }\n",
       "\n",
       "    .dataframe thead th {\n",
       "        text-align: right;\n",
       "    }\n",
       "</style>\n",
       "<table border=\"1\" class=\"dataframe\">\n",
       "  <thead>\n",
       "    <tr style=\"text-align: right;\">\n",
       "      <th>Risk</th>\n",
       "      <th>bad</th>\n",
       "      <th>good</th>\n",
       "      <th>All</th>\n",
       "      <th>proba</th>\n",
       "    </tr>\n",
       "    <tr>\n",
       "      <th>Sex</th>\n",
       "      <th></th>\n",
       "      <th></th>\n",
       "      <th></th>\n",
       "      <th></th>\n",
       "    </tr>\n",
       "  </thead>\n",
       "  <tbody>\n",
       "    <tr>\n",
       "      <th>female</th>\n",
       "      <td>76</td>\n",
       "      <td>138</td>\n",
       "      <td>214</td>\n",
       "      <td>0.64486</td>\n",
       "    </tr>\n",
       "    <tr>\n",
       "      <th>male</th>\n",
       "      <td>134</td>\n",
       "      <td>352</td>\n",
       "      <td>486</td>\n",
       "      <td>0.72428</td>\n",
       "    </tr>\n",
       "    <tr>\n",
       "      <th>All</th>\n",
       "      <td>210</td>\n",
       "      <td>490</td>\n",
       "      <td>700</td>\n",
       "      <td>0.70000</td>\n",
       "    </tr>\n",
       "  </tbody>\n",
       "</table>\n",
       "</div>"
      ],
      "text/plain": [
       "Risk    bad  good  All    proba\n",
       "Sex                            \n",
       "female   76   138  214  0.64486\n",
       "male    134   352  486  0.72428\n",
       "All     210   490  700  0.70000"
      ]
     },
     "execution_count": 56,
     "metadata": {},
     "output_type": "execute_result"
    }
   ],
   "source": [
    "tabla_sex"
   ]
  },
  {
   "cell_type": "code",
   "execution_count": 57,
   "id": "8f4852e9",
   "metadata": {},
   "outputs": [],
   "source": [
    "##Preprosesamiento\n",
    "from sklearn.impute import SimpleImputer"
   ]
  },
  {
   "cell_type": "code",
   "execution_count": 58,
   "id": "9f80713c",
   "metadata": {},
   "outputs": [],
   "source": [
    "#Se imputan variables que no contienen datos, esto es para producción\n",
    "#Age\",\"Credit amount\",\"Duration\",\n",
    "X_train = train[[\"Saving accounts\",\"Checking account\"]]"
   ]
  },
  {
   "cell_type": "code",
   "execution_count": 59,
   "id": "7484c3af",
   "metadata": {},
   "outputs": [],
   "source": [
    "imputer = SimpleImputer(strategy=\"constant\", fill_value='UPS')"
   ]
  },
  {
   "cell_type": "code",
   "execution_count": 60,
   "id": "24da87e0",
   "metadata": {},
   "outputs": [
    {
     "data": {
      "text/plain": [
       "SimpleImputer(fill_value='UPS', strategy='constant')"
      ]
     },
     "execution_count": 60,
     "metadata": {},
     "output_type": "execute_result"
    }
   ],
   "source": [
    "imputer.fit(X_train)"
   ]
  },
  {
   "cell_type": "code",
   "execution_count": 61,
   "id": "3c94bbfe",
   "metadata": {},
   "outputs": [
    {
     "data": {
      "text/plain": [
       "array(['UPS', 'UPS'], dtype=object)"
      ]
     },
     "execution_count": 61,
     "metadata": {},
     "output_type": "execute_result"
    }
   ],
   "source": [
    "imputer.statistics_"
   ]
  },
  {
   "cell_type": "code",
   "execution_count": 62,
   "id": "992f7ac1",
   "metadata": {},
   "outputs": [
    {
     "name": "stderr",
     "output_type": "stream",
     "text": [
      "/home/ec2-user/anaconda3/envs/python3/lib/python3.8/site-packages/sklearn/base.py:445: UserWarning: X does not have valid feature names, but SimpleImputer was fitted with feature names\n",
      "  warnings.warn(\n"
     ]
    },
    {
     "data": {
      "text/plain": [
       "array([['moderate', 'UPS'],\n",
       "       ['UPS', 'UPS']], dtype=object)"
      ]
     },
     "execution_count": 62,
     "metadata": {},
     "output_type": "execute_result"
    }
   ],
   "source": [
    "imputer.transform([['moderate',np.nan],[np.nan,np.nan]])"
   ]
  },
  {
   "cell_type": "code",
   "execution_count": 63,
   "id": "aa68fa8a",
   "metadata": {},
   "outputs": [
    {
     "data": {
      "text/plain": [
       "array([['little', 'rich'],\n",
       "       ['little', 'UPS'],\n",
       "       ['UPS', 'moderate'],\n",
       "       ...,\n",
       "       ['little', 'UPS'],\n",
       "       ['little', 'UPS'],\n",
       "       ['little', 'little']], dtype=object)"
      ]
     },
     "execution_count": 63,
     "metadata": {},
     "output_type": "execute_result"
    }
   ],
   "source": [
    "imputer.fit_transform(X_train)"
   ]
  },
  {
   "cell_type": "markdown",
   "id": "98332882",
   "metadata": {},
   "source": [
    "## Prueba con KNN"
   ]
  },
  {
   "cell_type": "code",
   "execution_count": 64,
   "id": "b4237ea2",
   "metadata": {},
   "outputs": [],
   "source": [
    "df2 = pd.DataFrame( [[40,19,3.0],[42,20,3.1],[44,21,np.nan],[45,23,4.1],[39,25,5.0],[80,27,np.nan],[82,30,4.8]], columns=[\"Peso\",\"Edad\",\"Nota\"])"
   ]
  },
  {
   "cell_type": "code",
   "execution_count": 65,
   "id": "2a62bd70",
   "metadata": {},
   "outputs": [],
   "source": [
    "from sklearn.impute import KNNImputer"
   ]
  },
  {
   "cell_type": "code",
   "execution_count": 66,
   "id": "92cdfaba",
   "metadata": {},
   "outputs": [],
   "source": [
    "imputer = KNNImputer(n_neighbors=4)"
   ]
  },
  {
   "cell_type": "code",
   "execution_count": 67,
   "id": "4c44dc36",
   "metadata": {},
   "outputs": [
    {
     "data": {
      "text/plain": [
       "KNNImputer(n_neighbors=4)"
      ]
     },
     "execution_count": 67,
     "metadata": {},
     "output_type": "execute_result"
    }
   ],
   "source": [
    "imputer.fit(df2)"
   ]
  },
  {
   "cell_type": "code",
   "execution_count": 68,
   "id": "c0bdc811",
   "metadata": {},
   "outputs": [
    {
     "data": {
      "text/plain": [
       "array([[40.  , 19.  ,  3.  ],\n",
       "       [42.  , 20.  ,  3.1 ],\n",
       "       [44.  , 21.  ,  3.8 ],\n",
       "       [45.  , 23.  ,  4.1 ],\n",
       "       [39.  , 25.  ,  5.  ],\n",
       "       [80.  , 27.  ,  3.75],\n",
       "       [82.  , 30.  ,  4.8 ]])"
      ]
     },
     "execution_count": 68,
     "metadata": {},
     "output_type": "execute_result"
    }
   ],
   "source": [
    "imputer.transform(df2)"
   ]
  },
  {
   "cell_type": "markdown",
   "id": "3b171cd5",
   "metadata": {},
   "source": [
    "## Escalado"
   ]
  },
  {
   "cell_type": "code",
   "execution_count": 69,
   "id": "c965d497",
   "metadata": {},
   "outputs": [],
   "source": [
    " from sklearn.preprocessing import StandardScaler, RobustScaler"
   ]
  },
  {
   "cell_type": "code",
   "execution_count": 70,
   "id": "19c6806c",
   "metadata": {},
   "outputs": [],
   "source": [
    "X_train = train[[\"Age\",\"Credit amount\",\"Duration\"]]"
   ]
  },
  {
   "cell_type": "code",
   "execution_count": 71,
   "id": "22a41c80",
   "metadata": {},
   "outputs": [],
   "source": [
    "scaler = StandardScaler()"
   ]
  },
  {
   "cell_type": "code",
   "execution_count": 72,
   "id": "9c5d6a52",
   "metadata": {},
   "outputs": [
    {
     "data": {
      "text/plain": [
       "StandardScaler()"
      ]
     },
     "execution_count": 72,
     "metadata": {},
     "output_type": "execute_result"
    }
   ],
   "source": [
    "scaler.fit(X_train[[\"Age\"]])"
   ]
  },
  {
   "cell_type": "code",
   "execution_count": 73,
   "id": "4d29c1dc",
   "metadata": {},
   "outputs": [
    {
     "data": {
      "text/plain": [
       "array([35.40285714])"
      ]
     },
     "execution_count": 73,
     "metadata": {},
     "output_type": "execute_result"
    }
   ],
   "source": [
    "scaler.mean_"
   ]
  },
  {
   "cell_type": "code",
   "execution_count": 74,
   "id": "c8eb897f",
   "metadata": {},
   "outputs": [
    {
     "data": {
      "text/plain": [
       "array([11.23479253])"
      ]
     },
     "execution_count": 74,
     "metadata": {},
     "output_type": "execute_result"
    }
   ],
   "source": [
    "scaler.var_ ** 0.5"
   ]
  },
  {
   "cell_type": "code",
   "execution_count": 75,
   "id": "a087a224",
   "metadata": {},
   "outputs": [
    {
     "data": {
      "text/plain": [
       "array([[31.00000003]])"
      ]
     },
     "execution_count": 75,
     "metadata": {},
     "output_type": "execute_result"
    }
   ],
   "source": [
    "scaler.inverse_transform([[-0.39189483]])"
   ]
  },
  {
   "cell_type": "code",
   "execution_count": 76,
   "id": "5c6d8d24",
   "metadata": {},
   "outputs": [
    {
     "data": {
      "text/plain": [
       "33.0"
      ]
     },
     "execution_count": 76,
     "metadata": {},
     "output_type": "execute_result"
    }
   ],
   "source": [
    "X_train[\"Age\"].quantile(0.5)"
   ]
  },
  {
   "cell_type": "code",
   "execution_count": 77,
   "id": "c99b8f0b",
   "metadata": {},
   "outputs": [
    {
     "data": {
      "text/plain": [
       "328   -16.20381\n",
       "891    -1.20381\n",
       "255   -20.20381\n",
       "243   -20.20381\n",
       "492   -20.20381\n",
       "         ...   \n",
       "73     -6.20381\n",
       "401   -19.20381\n",
       "769    15.79619\n",
       "2       1.79619\n",
       "617   -10.20381\n",
       "Name: Age, Length: 700, dtype: float64"
      ]
     },
     "execution_count": 77,
     "metadata": {},
     "output_type": "execute_result"
    }
   ],
   "source": [
    "X_train[\"Age\"] - X_train[\"Age\"].mean() / (X_train[\"Age\"].quantile(0.75) - X_train[\"Age\"].quantile(0.25)*1.5)"
   ]
  },
  {
   "cell_type": "code",
   "execution_count": 78,
   "id": "e0896f03",
   "metadata": {},
   "outputs": [
    {
     "data": {
      "text/plain": [
       "33.0"
      ]
     },
     "execution_count": 78,
     "metadata": {},
     "output_type": "execute_result"
    }
   ],
   "source": [
    "X_train[\"Age\"].median()"
   ]
  },
  {
   "cell_type": "code",
   "execution_count": 87,
   "id": "0fb8ba6b",
   "metadata": {},
   "outputs": [],
   "source": [
    "from sklearn.preprocessing import OneHotEncoder, MinMaxScaler"
   ]
  },
  {
   "cell_type": "code",
   "execution_count": 88,
   "id": "55e13b6a",
   "metadata": {},
   "outputs": [
    {
     "data": {
      "text/plain": [
       "array([[1.],\n",
       "       [1.],\n",
       "       [1.],\n",
       "       [0.],\n",
       "       [0.],\n",
       "       [1.],\n",
       "       [1.],\n",
       "       [1.],\n",
       "       [1.],\n",
       "       [0.],\n",
       "       [1.],\n",
       "       [1.],\n",
       "       [0.],\n",
       "       [1.],\n",
       "       [0.],\n",
       "       [1.],\n",
       "       [1.],\n",
       "       [0.],\n",
       "       [1.],\n",
       "       [1.],\n",
       "       [0.],\n",
       "       [1.],\n",
       "       [1.],\n",
       "       [1.],\n",
       "       [0.],\n",
       "       [1.],\n",
       "       [0.],\n",
       "       [1.],\n",
       "       [0.],\n",
       "       [1.],\n",
       "       [1.],\n",
       "       [0.],\n",
       "       [1.],\n",
       "       [1.],\n",
       "       [1.],\n",
       "       [1.],\n",
       "       [0.],\n",
       "       [1.],\n",
       "       [1.],\n",
       "       [1.],\n",
       "       [1.],\n",
       "       [1.],\n",
       "       [1.],\n",
       "       [0.],\n",
       "       [1.],\n",
       "       [0.],\n",
       "       [0.],\n",
       "       [1.],\n",
       "       [1.],\n",
       "       [1.],\n",
       "       [1.],\n",
       "       [1.],\n",
       "       [0.],\n",
       "       [1.],\n",
       "       [1.],\n",
       "       [0.],\n",
       "       [1.],\n",
       "       [1.],\n",
       "       [1.],\n",
       "       [1.],\n",
       "       [1.],\n",
       "       [1.],\n",
       "       [1.],\n",
       "       [1.],\n",
       "       [1.],\n",
       "       [0.],\n",
       "       [0.],\n",
       "       [1.],\n",
       "       [1.],\n",
       "       [1.],\n",
       "       [1.],\n",
       "       [1.],\n",
       "       [1.],\n",
       "       [1.],\n",
       "       [0.],\n",
       "       [1.],\n",
       "       [1.],\n",
       "       [0.],\n",
       "       [0.],\n",
       "       [1.],\n",
       "       [1.],\n",
       "       [1.],\n",
       "       [1.],\n",
       "       [0.],\n",
       "       [1.],\n",
       "       [0.],\n",
       "       [1.],\n",
       "       [1.],\n",
       "       [1.],\n",
       "       [1.],\n",
       "       [1.],\n",
       "       [0.],\n",
       "       [1.],\n",
       "       [0.],\n",
       "       [0.],\n",
       "       [1.],\n",
       "       [1.],\n",
       "       [1.],\n",
       "       [1.],\n",
       "       [1.],\n",
       "       [1.],\n",
       "       [1.],\n",
       "       [0.],\n",
       "       [1.],\n",
       "       [1.],\n",
       "       [0.],\n",
       "       [1.],\n",
       "       [1.],\n",
       "       [1.],\n",
       "       [1.],\n",
       "       [0.],\n",
       "       [0.],\n",
       "       [1.],\n",
       "       [1.],\n",
       "       [1.],\n",
       "       [1.],\n",
       "       [1.],\n",
       "       [1.],\n",
       "       [1.],\n",
       "       [1.],\n",
       "       [0.],\n",
       "       [1.],\n",
       "       [0.],\n",
       "       [1.],\n",
       "       [0.],\n",
       "       [1.],\n",
       "       [0.],\n",
       "       [1.],\n",
       "       [0.],\n",
       "       [0.],\n",
       "       [1.],\n",
       "       [0.],\n",
       "       [1.],\n",
       "       [1.],\n",
       "       [1.],\n",
       "       [0.],\n",
       "       [1.],\n",
       "       [1.],\n",
       "       [1.],\n",
       "       [1.],\n",
       "       [0.],\n",
       "       [0.],\n",
       "       [1.],\n",
       "       [0.],\n",
       "       [0.],\n",
       "       [1.],\n",
       "       [0.],\n",
       "       [0.],\n",
       "       [0.],\n",
       "       [1.],\n",
       "       [1.],\n",
       "       [1.],\n",
       "       [1.],\n",
       "       [1.],\n",
       "       [1.],\n",
       "       [1.],\n",
       "       [0.],\n",
       "       [1.],\n",
       "       [1.],\n",
       "       [0.],\n",
       "       [0.],\n",
       "       [1.],\n",
       "       [1.],\n",
       "       [1.],\n",
       "       [1.],\n",
       "       [0.],\n",
       "       [1.],\n",
       "       [1.],\n",
       "       [0.],\n",
       "       [1.],\n",
       "       [0.],\n",
       "       [1.],\n",
       "       [0.],\n",
       "       [1.],\n",
       "       [1.],\n",
       "       [1.],\n",
       "       [1.],\n",
       "       [1.],\n",
       "       [1.],\n",
       "       [1.],\n",
       "       [0.],\n",
       "       [1.],\n",
       "       [1.],\n",
       "       [0.],\n",
       "       [1.],\n",
       "       [1.],\n",
       "       [0.],\n",
       "       [1.],\n",
       "       [1.],\n",
       "       [1.],\n",
       "       [0.],\n",
       "       [1.],\n",
       "       [1.],\n",
       "       [0.],\n",
       "       [0.],\n",
       "       [1.],\n",
       "       [0.],\n",
       "       [1.],\n",
       "       [1.],\n",
       "       [0.],\n",
       "       [1.],\n",
       "       [1.],\n",
       "       [1.],\n",
       "       [1.],\n",
       "       [1.],\n",
       "       [0.],\n",
       "       [1.],\n",
       "       [1.],\n",
       "       [1.],\n",
       "       [1.],\n",
       "       [1.],\n",
       "       [0.],\n",
       "       [0.],\n",
       "       [1.],\n",
       "       [1.],\n",
       "       [1.],\n",
       "       [0.],\n",
       "       [1.],\n",
       "       [0.],\n",
       "       [1.],\n",
       "       [1.],\n",
       "       [1.],\n",
       "       [1.],\n",
       "       [1.],\n",
       "       [1.],\n",
       "       [1.],\n",
       "       [1.],\n",
       "       [1.],\n",
       "       [1.],\n",
       "       [1.],\n",
       "       [1.],\n",
       "       [1.],\n",
       "       [0.],\n",
       "       [1.],\n",
       "       [1.],\n",
       "       [0.],\n",
       "       [0.],\n",
       "       [1.],\n",
       "       [1.],\n",
       "       [1.],\n",
       "       [1.],\n",
       "       [1.],\n",
       "       [1.],\n",
       "       [0.],\n",
       "       [1.],\n",
       "       [1.],\n",
       "       [1.],\n",
       "       [0.],\n",
       "       [1.],\n",
       "       [0.],\n",
       "       [0.],\n",
       "       [0.],\n",
       "       [1.],\n",
       "       [1.],\n",
       "       [0.],\n",
       "       [0.],\n",
       "       [1.],\n",
       "       [1.],\n",
       "       [1.],\n",
       "       [1.],\n",
       "       [0.],\n",
       "       [1.],\n",
       "       [1.],\n",
       "       [1.],\n",
       "       [0.],\n",
       "       [0.],\n",
       "       [1.],\n",
       "       [0.],\n",
       "       [1.],\n",
       "       [0.],\n",
       "       [1.],\n",
       "       [1.],\n",
       "       [1.],\n",
       "       [1.],\n",
       "       [1.],\n",
       "       [0.],\n",
       "       [0.],\n",
       "       [1.],\n",
       "       [1.],\n",
       "       [1.],\n",
       "       [1.],\n",
       "       [1.],\n",
       "       [1.],\n",
       "       [1.],\n",
       "       [0.],\n",
       "       [0.],\n",
       "       [1.],\n",
       "       [1.],\n",
       "       [1.],\n",
       "       [1.],\n",
       "       [1.],\n",
       "       [1.],\n",
       "       [1.],\n",
       "       [1.],\n",
       "       [0.],\n",
       "       [1.],\n",
       "       [1.],\n",
       "       [0.],\n",
       "       [0.],\n",
       "       [1.],\n",
       "       [0.],\n",
       "       [0.],\n",
       "       [0.],\n",
       "       [0.],\n",
       "       [0.],\n",
       "       [1.],\n",
       "       [0.],\n",
       "       [1.],\n",
       "       [1.],\n",
       "       [1.],\n",
       "       [1.],\n",
       "       [1.],\n",
       "       [1.],\n",
       "       [0.],\n",
       "       [1.],\n",
       "       [1.],\n",
       "       [1.],\n",
       "       [1.],\n",
       "       [1.],\n",
       "       [0.],\n",
       "       [1.],\n",
       "       [1.],\n",
       "       [1.],\n",
       "       [1.],\n",
       "       [1.],\n",
       "       [1.],\n",
       "       [1.],\n",
       "       [1.],\n",
       "       [0.],\n",
       "       [1.],\n",
       "       [1.],\n",
       "       [1.],\n",
       "       [0.],\n",
       "       [0.],\n",
       "       [1.],\n",
       "       [1.],\n",
       "       [1.],\n",
       "       [0.],\n",
       "       [0.],\n",
       "       [0.],\n",
       "       [1.],\n",
       "       [1.],\n",
       "       [0.],\n",
       "       [0.],\n",
       "       [1.],\n",
       "       [1.],\n",
       "       [1.],\n",
       "       [1.],\n",
       "       [1.],\n",
       "       [1.],\n",
       "       [1.],\n",
       "       [0.],\n",
       "       [1.],\n",
       "       [0.],\n",
       "       [0.],\n",
       "       [1.],\n",
       "       [0.],\n",
       "       [1.],\n",
       "       [1.],\n",
       "       [1.],\n",
       "       [0.],\n",
       "       [0.],\n",
       "       [1.],\n",
       "       [0.],\n",
       "       [1.],\n",
       "       [1.],\n",
       "       [1.],\n",
       "       [1.],\n",
       "       [1.],\n",
       "       [0.],\n",
       "       [1.],\n",
       "       [1.],\n",
       "       [0.],\n",
       "       [1.],\n",
       "       [1.],\n",
       "       [0.],\n",
       "       [1.],\n",
       "       [1.],\n",
       "       [1.],\n",
       "       [0.],\n",
       "       [1.],\n",
       "       [1.],\n",
       "       [0.],\n",
       "       [1.],\n",
       "       [1.],\n",
       "       [1.],\n",
       "       [0.],\n",
       "       [1.],\n",
       "       [1.],\n",
       "       [1.],\n",
       "       [1.],\n",
       "       [1.],\n",
       "       [1.],\n",
       "       [1.],\n",
       "       [1.],\n",
       "       [0.],\n",
       "       [0.],\n",
       "       [1.],\n",
       "       [1.],\n",
       "       [1.],\n",
       "       [1.],\n",
       "       [0.],\n",
       "       [1.],\n",
       "       [1.],\n",
       "       [1.],\n",
       "       [1.],\n",
       "       [1.],\n",
       "       [1.],\n",
       "       [0.],\n",
       "       [1.],\n",
       "       [0.],\n",
       "       [0.],\n",
       "       [0.],\n",
       "       [1.],\n",
       "       [0.],\n",
       "       [1.],\n",
       "       [0.],\n",
       "       [0.],\n",
       "       [1.],\n",
       "       [1.],\n",
       "       [1.],\n",
       "       [0.],\n",
       "       [1.],\n",
       "       [1.],\n",
       "       [0.],\n",
       "       [0.],\n",
       "       [1.],\n",
       "       [0.],\n",
       "       [1.],\n",
       "       [1.],\n",
       "       [1.],\n",
       "       [1.],\n",
       "       [0.],\n",
       "       [1.],\n",
       "       [0.],\n",
       "       [1.],\n",
       "       [1.],\n",
       "       [1.],\n",
       "       [0.],\n",
       "       [1.],\n",
       "       [1.],\n",
       "       [0.],\n",
       "       [1.],\n",
       "       [1.],\n",
       "       [1.],\n",
       "       [1.],\n",
       "       [1.],\n",
       "       [1.],\n",
       "       [1.],\n",
       "       [1.],\n",
       "       [1.],\n",
       "       [1.],\n",
       "       [0.],\n",
       "       [1.],\n",
       "       [1.],\n",
       "       [0.],\n",
       "       [1.],\n",
       "       [1.],\n",
       "       [1.],\n",
       "       [1.],\n",
       "       [0.],\n",
       "       [1.],\n",
       "       [1.],\n",
       "       [1.],\n",
       "       [0.],\n",
       "       [1.],\n",
       "       [1.],\n",
       "       [0.],\n",
       "       [1.],\n",
       "       [1.],\n",
       "       [1.],\n",
       "       [0.],\n",
       "       [1.],\n",
       "       [1.],\n",
       "       [0.],\n",
       "       [1.],\n",
       "       [1.],\n",
       "       [1.],\n",
       "       [1.],\n",
       "       [1.],\n",
       "       [0.],\n",
       "       [1.],\n",
       "       [1.],\n",
       "       [0.],\n",
       "       [1.],\n",
       "       [1.],\n",
       "       [1.],\n",
       "       [1.],\n",
       "       [1.],\n",
       "       [1.],\n",
       "       [1.],\n",
       "       [0.],\n",
       "       [1.],\n",
       "       [1.],\n",
       "       [1.],\n",
       "       [1.],\n",
       "       [1.],\n",
       "       [1.],\n",
       "       [1.],\n",
       "       [0.],\n",
       "       [1.],\n",
       "       [1.],\n",
       "       [1.],\n",
       "       [0.],\n",
       "       [1.],\n",
       "       [0.],\n",
       "       [0.],\n",
       "       [1.],\n",
       "       [1.],\n",
       "       [1.],\n",
       "       [0.],\n",
       "       [0.],\n",
       "       [0.],\n",
       "       [1.],\n",
       "       [1.],\n",
       "       [1.],\n",
       "       [1.],\n",
       "       [1.],\n",
       "       [1.],\n",
       "       [1.],\n",
       "       [1.],\n",
       "       [1.],\n",
       "       [0.],\n",
       "       [0.],\n",
       "       [1.],\n",
       "       [1.],\n",
       "       [1.],\n",
       "       [0.],\n",
       "       [1.],\n",
       "       [1.],\n",
       "       [0.],\n",
       "       [0.],\n",
       "       [0.],\n",
       "       [0.],\n",
       "       [0.],\n",
       "       [1.],\n",
       "       [0.],\n",
       "       [1.],\n",
       "       [1.],\n",
       "       [1.],\n",
       "       [1.],\n",
       "       [0.],\n",
       "       [0.],\n",
       "       [1.],\n",
       "       [1.],\n",
       "       [1.],\n",
       "       [0.],\n",
       "       [1.],\n",
       "       [1.],\n",
       "       [1.],\n",
       "       [1.],\n",
       "       [1.],\n",
       "       [1.],\n",
       "       [0.],\n",
       "       [1.],\n",
       "       [0.],\n",
       "       [1.],\n",
       "       [1.],\n",
       "       [1.],\n",
       "       [0.],\n",
       "       [1.],\n",
       "       [1.],\n",
       "       [1.],\n",
       "       [1.],\n",
       "       [1.],\n",
       "       [1.],\n",
       "       [1.],\n",
       "       [1.],\n",
       "       [1.],\n",
       "       [0.],\n",
       "       [1.],\n",
       "       [0.],\n",
       "       [1.],\n",
       "       [0.],\n",
       "       [1.],\n",
       "       [1.],\n",
       "       [1.],\n",
       "       [1.],\n",
       "       [0.],\n",
       "       [1.],\n",
       "       [1.],\n",
       "       [1.],\n",
       "       [0.],\n",
       "       [1.],\n",
       "       [1.],\n",
       "       [0.],\n",
       "       [1.],\n",
       "       [0.],\n",
       "       [1.],\n",
       "       [1.],\n",
       "       [0.],\n",
       "       [0.],\n",
       "       [1.],\n",
       "       [1.],\n",
       "       [0.],\n",
       "       [1.],\n",
       "       [1.],\n",
       "       [0.],\n",
       "       [0.],\n",
       "       [0.],\n",
       "       [0.],\n",
       "       [0.],\n",
       "       [1.],\n",
       "       [1.],\n",
       "       [1.],\n",
       "       [0.],\n",
       "       [1.],\n",
       "       [1.],\n",
       "       [1.],\n",
       "       [1.],\n",
       "       [1.],\n",
       "       [1.],\n",
       "       [1.],\n",
       "       [1.],\n",
       "       [1.],\n",
       "       [1.],\n",
       "       [1.],\n",
       "       [0.],\n",
       "       [1.],\n",
       "       [0.],\n",
       "       [0.],\n",
       "       [1.],\n",
       "       [0.],\n",
       "       [1.],\n",
       "       [0.],\n",
       "       [1.],\n",
       "       [1.],\n",
       "       [1.],\n",
       "       [1.],\n",
       "       [0.],\n",
       "       [1.],\n",
       "       [1.],\n",
       "       [1.],\n",
       "       [1.],\n",
       "       [1.],\n",
       "       [1.],\n",
       "       [0.],\n",
       "       [1.],\n",
       "       [1.],\n",
       "       [0.],\n",
       "       [0.],\n",
       "       [1.],\n",
       "       [1.],\n",
       "       [0.],\n",
       "       [0.],\n",
       "       [0.],\n",
       "       [1.],\n",
       "       [0.],\n",
       "       [1.],\n",
       "       [1.],\n",
       "       [1.],\n",
       "       [1.],\n",
       "       [0.],\n",
       "       [0.],\n",
       "       [1.],\n",
       "       [0.],\n",
       "       [1.],\n",
       "       [1.],\n",
       "       [1.],\n",
       "       [0.],\n",
       "       [1.],\n",
       "       [1.],\n",
       "       [1.],\n",
       "       [0.],\n",
       "       [1.],\n",
       "       [1.],\n",
       "       [0.],\n",
       "       [0.],\n",
       "       [1.],\n",
       "       [0.],\n",
       "       [1.],\n",
       "       [1.],\n",
       "       [0.],\n",
       "       [0.],\n",
       "       [1.],\n",
       "       [0.],\n",
       "       [1.],\n",
       "       [1.],\n",
       "       [0.],\n",
       "       [1.],\n",
       "       [1.],\n",
       "       [1.],\n",
       "       [0.],\n",
       "       [1.],\n",
       "       [1.],\n",
       "       [1.],\n",
       "       [0.],\n",
       "       [0.],\n",
       "       [1.],\n",
       "       [1.],\n",
       "       [1.],\n",
       "       [0.],\n",
       "       [1.],\n",
       "       [1.],\n",
       "       [0.],\n",
       "       [0.],\n",
       "       [1.],\n",
       "       [1.],\n",
       "       [1.],\n",
       "       [1.]])"
      ]
     },
     "execution_count": 88,
     "metadata": {},
     "output_type": "execute_result"
    }
   ],
   "source": [
    "encoder = OneHotEncoder(sparse=False, drop ='first')\n",
    "encoder.fit_transform(train[[\"Sex\"]])"
   ]
  },
  {
   "cell_type": "code",
   "execution_count": 89,
   "id": "7b62dff5",
   "metadata": {},
   "outputs": [
    {
     "data": {
      "text/plain": [
       "[array(['female', 'male'], dtype=object)]"
      ]
     },
     "execution_count": 89,
     "metadata": {},
     "output_type": "execute_result"
    }
   ],
   "source": [
    "encoder.categories_"
   ]
  },
  {
   "cell_type": "code",
   "execution_count": 90,
   "id": "352769ce",
   "metadata": {},
   "outputs": [
    {
     "data": {
      "text/plain": [
       "array([['female']], dtype=object)"
      ]
     },
     "execution_count": 90,
     "metadata": {},
     "output_type": "execute_result"
    }
   ],
   "source": [
    "encoder.inverse_transform([[0]])"
   ]
  },
  {
   "cell_type": "code",
   "execution_count": 92,
   "id": "583005fd",
   "metadata": {},
   "outputs": [],
   "source": [
    "from sklearn.pipeline import Pipeline"
   ]
  },
  {
   "cell_type": "code",
   "execution_count": 93,
   "id": "f254b863",
   "metadata": {},
   "outputs": [],
   "source": [
    "numeric_pipeline = Pipeline(\n",
    "    [\n",
    "        ('Imputación con la media', SimpleImputer(strategy='mean')),\n",
    "        ('Escalado minmax', MinMaxScaler())\n",
    "    ]\n",
    ")"
   ]
  },
  {
   "cell_type": "code",
   "execution_count": 94,
   "id": "bca15e9c",
   "metadata": {},
   "outputs": [
    {
     "data": {
      "text/plain": [
       "Pipeline(steps=[('Imputación con la media', SimpleImputer()),\n",
       "                ('Escalado minmax', MinMaxScaler())])"
      ]
     },
     "execution_count": 94,
     "metadata": {},
     "output_type": "execute_result"
    }
   ],
   "source": [
    "numeric_pipeline.fit(train[[\"Age\",\"Credit amount\",\"Duration\"]])"
   ]
  },
  {
   "cell_type": "code",
   "execution_count": 95,
   "id": "3bf258b7",
   "metadata": {},
   "outputs": [
    {
     "data": {
      "text/plain": [
       "array([  35.40285714, 3236.12142857,   21.04857143])"
      ]
     },
     "execution_count": 95,
     "metadata": {},
     "output_type": "execute_result"
    }
   ],
   "source": [
    "numeric_pipeline[0].statistics_"
   ]
  },
  {
   "cell_type": "code",
   "execution_count": 96,
   "id": "05645958",
   "metadata": {},
   "outputs": [
    {
     "data": {
      "text/plain": [
       "array([-0.36363636, -0.01375592, -0.05882353])"
      ]
     },
     "execution_count": 96,
     "metadata": {},
     "output_type": "execute_result"
    }
   ],
   "source": [
    "numeric_pipeline[1].min_"
   ]
  },
  {
   "cell_type": "code",
   "execution_count": 97,
   "id": "7217cbf4",
   "metadata": {},
   "outputs": [
    {
     "data": {
      "text/plain": [
       "array([   75., 18424.,    72.])"
      ]
     },
     "execution_count": 97,
     "metadata": {},
     "output_type": "execute_result"
    }
   ],
   "source": [
    "numeric_pipeline[1].data_max_"
   ]
  },
  {
   "cell_type": "code",
   "execution_count": 98,
   "id": "164880e2",
   "metadata": {},
   "outputs": [
    {
     "data": {
      "text/plain": [
       "Age                 75\n",
       "Credit amount    18424\n",
       "Duration            72\n",
       "dtype: int64"
      ]
     },
     "execution_count": 98,
     "metadata": {},
     "output_type": "execute_result"
    }
   ],
   "source": [
    "train[[\"Age\",\"Credit amount\",\"Duration\"]].max()"
   ]
  },
  {
   "cell_type": "code",
   "execution_count": 99,
   "id": "29f188f7",
   "metadata": {},
   "outputs": [
    {
     "data": {
      "text/plain": [
       "array([[0.2       , 0.23236492, 0.47058824],\n",
       "       [0.47272727, 0.08688236, 0.16176471],\n",
       "       [0.12727273, 0.3944096 , 0.82352941],\n",
       "       ...,\n",
       "       [0.78181818, 0.07730824, 0.11764706],\n",
       "       [0.52727273, 0.10157368, 0.11764706],\n",
       "       [0.30909091, 0.18851106, 0.02941176]])"
      ]
     },
     "execution_count": 99,
     "metadata": {},
     "output_type": "execute_result"
    }
   ],
   "source": [
    "numeric_pipeline.transform(train[[\"Age\",\"Credit amount\",\"Duration\"]])"
   ]
  },
  {
   "cell_type": "code",
   "execution_count": 100,
   "id": "00dbd01a",
   "metadata": {},
   "outputs": [
    {
     "name": "stderr",
     "output_type": "stream",
     "text": [
      "/home/ec2-user/anaconda3/envs/python3/lib/python3.8/site-packages/sklearn/base.py:445: UserWarning: X does not have valid feature names, but SimpleImputer was fitted with feature names\n",
      "  warnings.warn(\n"
     ]
    },
    {
     "data": {
      "text/plain": [
       "array([[0.28005195, 0.16430733, 0.25071429]])"
      ]
     },
     "execution_count": 100,
     "metadata": {},
     "output_type": "execute_result"
    }
   ],
   "source": [
    "numeric_pipeline.transform([[np.nan, np.nan, np.nan]])"
   ]
  },
  {
   "cell_type": "code",
   "execution_count": 101,
   "id": "c6ae32a1",
   "metadata": {},
   "outputs": [],
   "source": [
    "#Sex, Purpose, Housing\n",
    "categorical_pipeline = Pipeline(\n",
    "    [\n",
    "        ('Imputación con la moda', SimpleImputer(strategy='most_frequent')),\n",
    "        ('Escalado OneHotEncoder', OneHotEncoder(sparse=False))\n",
    "    ]\n",
    ")"
   ]
  },
  {
   "cell_type": "code",
   "execution_count": 102,
   "id": "306eaa01",
   "metadata": {},
   "outputs": [
    {
     "data": {
      "text/plain": [
       "Pipeline(steps=[('Imputación con la moda',\n",
       "                 SimpleImputer(strategy='most_frequent')),\n",
       "                ('Escalado OneHotEncoder', OneHotEncoder(sparse=False))])"
      ]
     },
     "execution_count": 102,
     "metadata": {},
     "output_type": "execute_result"
    }
   ],
   "source": [
    "categorical_pipeline.fit(train[[\"Sex\",\"Purpose\",\"Housing\"]])"
   ]
  },
  {
   "cell_type": "code",
   "execution_count": 103,
   "id": "b6e94551",
   "metadata": {},
   "outputs": [
    {
     "data": {
      "text/plain": [
       "array([[0., 1., 0., ..., 0., 1., 0.],\n",
       "       [0., 1., 0., ..., 0., 1., 0.],\n",
       "       [0., 1., 0., ..., 0., 1., 0.],\n",
       "       ...,\n",
       "       [0., 1., 0., ..., 0., 1., 0.],\n",
       "       [0., 1., 0., ..., 0., 1., 0.],\n",
       "       [0., 1., 0., ..., 0., 0., 1.]])"
      ]
     },
     "execution_count": 103,
     "metadata": {},
     "output_type": "execute_result"
    }
   ],
   "source": [
    "categorical_pipeline.transform(train[[\"Sex\",\"Purpose\",\"Housing\"]])"
   ]
  },
  {
   "cell_type": "code",
   "execution_count": 104,
   "id": "398bfc05",
   "metadata": {},
   "outputs": [
    {
     "data": {
      "text/plain": [
       "[array(['female', 'male'], dtype=object),\n",
       " array(['business', 'car', 'domestic appliances', 'education',\n",
       "        'furniture/equipment', 'radio/TV', 'repairs', 'vacation/others'],\n",
       "       dtype=object),\n",
       " array(['free', 'own', 'rent'], dtype=object)]"
      ]
     },
     "execution_count": 104,
     "metadata": {},
     "output_type": "execute_result"
    }
   ],
   "source": [
    "categorical_pipeline[1].categories_"
   ]
  },
  {
   "cell_type": "code",
   "execution_count": 105,
   "id": "30fe336b",
   "metadata": {},
   "outputs": [],
   "source": [
    "from sklearn.compose import ColumnTransformer"
   ]
  },
  {
   "cell_type": "code",
   "execution_count": 106,
   "id": "e01d348f",
   "metadata": {},
   "outputs": [],
   "source": [
    "column_transformer = ColumnTransformer(\n",
    "    [\n",
    "        (\"numeric pipeline\", numeric_pipeline, [0,1,2]),\n",
    "        (\"categorical pipeline\", categorical_pipeline, [3,4,5])\n",
    "    ]\n",
    ")"
   ]
  },
  {
   "cell_type": "code",
   "execution_count": 107,
   "id": "ab4777da",
   "metadata": {},
   "outputs": [
    {
     "data": {
      "text/plain": [
       "ColumnTransformer(transformers=[('numeric pipeline',\n",
       "                                 Pipeline(steps=[('Imputación con la media',\n",
       "                                                  SimpleImputer()),\n",
       "                                                 ('Escalado minmax',\n",
       "                                                  MinMaxScaler())]),\n",
       "                                 [0, 1, 2]),\n",
       "                                ('categorical pipeline',\n",
       "                                 Pipeline(steps=[('Imputación con la moda',\n",
       "                                                  SimpleImputer(strategy='most_frequent')),\n",
       "                                                 ('Escalado OneHotEncoder',\n",
       "                                                  OneHotEncoder(sparse=False))]),\n",
       "                                 [3, 4, 5])])"
      ]
     },
     "execution_count": 107,
     "metadata": {},
     "output_type": "execute_result"
    }
   ],
   "source": [
    "column_transformer.fit(train[[\"Age\",\"Credit amount\",\"Duration\", \"Sex\",\"Purpose\",\"Housing\"]])"
   ]
  },
  {
   "cell_type": "code",
   "execution_count": 108,
   "id": "1ad7a11d",
   "metadata": {},
   "outputs": [
    {
     "data": {
      "text/plain": [
       "array([[0.2       , 0.23236492, 0.47058824, ..., 0.        , 1.        ,\n",
       "        0.        ],\n",
       "       [0.47272727, 0.08688236, 0.16176471, ..., 0.        , 1.        ,\n",
       "        0.        ],\n",
       "       [0.12727273, 0.3944096 , 0.82352941, ..., 0.        , 1.        ,\n",
       "        0.        ],\n",
       "       ...,\n",
       "       [0.78181818, 0.07730824, 0.11764706, ..., 0.        , 1.        ,\n",
       "        0.        ],\n",
       "       [0.52727273, 0.10157368, 0.11764706, ..., 0.        , 1.        ,\n",
       "        0.        ],\n",
       "       [0.30909091, 0.18851106, 0.02941176, ..., 0.        , 0.        ,\n",
       "        1.        ]])"
      ]
     },
     "execution_count": 108,
     "metadata": {},
     "output_type": "execute_result"
    }
   ],
   "source": [
    "column_transformer.transform(train[[\"Age\",\"Credit amount\",\"Duration\", \"Sex\",\"Purpose\",\"Housing\"]])"
   ]
  },
  {
   "cell_type": "code",
   "execution_count": 109,
   "id": "7e04930d",
   "metadata": {},
   "outputs": [
    {
     "data": {
      "text/plain": [
       "['processing.joblib']"
      ]
     },
     "execution_count": 109,
     "metadata": {},
     "output_type": "execute_result"
    }
   ],
   "source": [
    "joblib.dump(column_transformer,'processing.joblib')"
   ]
  },
  {
   "cell_type": "markdown",
   "id": "8c965b2a",
   "metadata": {},
   "source": [
    "## Evaluación de modelos con validación cruzada"
   ]
  },
  {
   "cell_type": "code",
   "execution_count": 81,
   "id": "3a5f1fb8",
   "metadata": {},
   "outputs": [],
   "source": [
    "##Versión 1, evaluar el modelo"
   ]
  },
  {
   "cell_type": "code",
   "execution_count": 110,
   "id": "f8393698",
   "metadata": {},
   "outputs": [],
   "source": [
    "X_train = train[[\"Age\",\"Credit amount\",\"Duration\", \"Sex\",\"Purpose\",\"Housing\"]]"
   ]
  },
  {
   "cell_type": "code",
   "execution_count": 111,
   "id": "e436c0bb",
   "metadata": {},
   "outputs": [],
   "source": [
    "y_train = train[\"Risk\"]"
   ]
  },
  {
   "cell_type": "code",
   "execution_count": 112,
   "id": "732d3bad",
   "metadata": {},
   "outputs": [],
   "source": [
    "X_train_processed = column_transformer.transform(X_train)"
   ]
  },
  {
   "cell_type": "code",
   "execution_count": 114,
   "id": "845f0c92",
   "metadata": {},
   "outputs": [],
   "source": [
    "from sklearn.model_selection import cross_validate\n",
    "from sklearn.tree import DecisionTreeClassifier"
   ]
  },
  {
   "cell_type": "code",
   "execution_count": 116,
   "id": "aece4ac1",
   "metadata": {},
   "outputs": [],
   "source": [
    "y_train_transform = (y_train=='good').astype(\"int\")"
   ]
  },
  {
   "cell_type": "code",
   "execution_count": 118,
   "id": "2a88a541",
   "metadata": {},
   "outputs": [],
   "source": [
    "results = cross_validate(DecisionTreeClassifier(),\n",
    "                        X_train_processed, y_train_transform, cv=10,\n",
    "                        scoring=[\"accuracy\",\"f1\"])"
   ]
  },
  {
   "cell_type": "code",
   "execution_count": 120,
   "id": "e53bf4e4",
   "metadata": {},
   "outputs": [
    {
     "name": "stdout",
     "output_type": "stream",
     "text": [
      "0.6228571428571429 +- 0.05118992247762548\n"
     ]
    }
   ],
   "source": [
    "#En el artículo se debe colocar el resultado mostrando la media y la desviación standard\n",
    "print(results[\"test_accuracy\"].mean(), \"+-\", results[\"test_accuracy\"].std())"
   ]
  },
  {
   "cell_type": "markdown",
   "id": "61d29f6d",
   "metadata": {},
   "source": [
    "## Versión 2 evaluar el preprocesamiento incluyéndolo en el pipeline (mejor que la versión 1)"
   ]
  },
  {
   "cell_type": "code",
   "execution_count": 121,
   "id": "d59838e8",
   "metadata": {},
   "outputs": [],
   "source": [
    "final_pipeline = Pipeline(\n",
    "    [\n",
    "        ('Pipeline de preprocesamiento', column_transformer),\n",
    "        ('Modelo de predicción de Árbol', DecisionTreeClassifier())\n",
    "    ]\n",
    ")"
   ]
  },
  {
   "cell_type": "code",
   "execution_count": 127,
   "id": "9bb62ba7",
   "metadata": {},
   "outputs": [],
   "source": [
    "results = cross_validate(final_pipeline,\n",
    "                        X_train, y_train_transform, cv=10,\n",
    "                        scoring=[\"accuracy\",\"f1\"])"
   ]
  },
  {
   "cell_type": "code",
   "execution_count": 129,
   "id": "d5208195",
   "metadata": {},
   "outputs": [
    {
     "name": "stdout",
     "output_type": "stream",
     "text": [
      "0.6214285714285713 +- 0.03951233338839809\n"
     ]
    }
   ],
   "source": [
    "#En el artículo se debe colocar el resultado mostrando la media y la desviación standard\n",
    "print(results[\"test_accuracy\"].mean(), \"+-\", results[\"test_accuracy\"].std())"
   ]
  },
  {
   "cell_type": "markdown",
   "id": "80e884f0",
   "metadata": {},
   "source": [
    "## Versión 3 evaluar el preprocesamiento incluyéndolo en el pipeline (mejor que la versión 2)"
   ]
  },
  {
   "cell_type": "code",
   "execution_count": 145,
   "id": "95dc1e48",
   "metadata": {},
   "outputs": [],
   "source": [
    "final_pipeline = Pipeline(\n",
    "    [\n",
    "        ('Pipeline de preprocesamiento', column_transformer),\n",
    "        ('Modelo de predicción de Árbol', DecisionTreeClassifier(max_depth=3))\n",
    "    ]\n",
    ")"
   ]
  },
  {
   "cell_type": "code",
   "execution_count": 146,
   "id": "1bf44b4c",
   "metadata": {},
   "outputs": [],
   "source": [
    "results = cross_validate(final_pipeline,\n",
    "                        X_train, y_train_transform, cv=10,\n",
    "                        scoring=[\"accuracy\",\"f1\"])"
   ]
  },
  {
   "cell_type": "code",
   "execution_count": 148,
   "id": "d4d3899f",
   "metadata": {},
   "outputs": [
    {
     "name": "stdout",
     "output_type": "stream",
     "text": [
      "0.7228571428571429 +- 0.014568627181693663\n"
     ]
    }
   ],
   "source": [
    "#En el artículo se debe colocar el resultado mostrando la media y la desviación standard\n",
    "print(results[\"test_accuracy\"].mean(), \"+-\", results[\"test_accuracy\"].std())"
   ]
  },
  {
   "cell_type": "markdown",
   "id": "2dffdcb3",
   "metadata": {},
   "source": [
    "## Versión 4 con ajuste de hiperparámetros"
   ]
  },
  {
   "cell_type": "code",
   "execution_count": 152,
   "id": "d030bbac",
   "metadata": {},
   "outputs": [],
   "source": [
    "from sklearn.model_selection import GridSearchCV"
   ]
  },
  {
   "cell_type": "code",
   "execution_count": 159,
   "id": "3c336116",
   "metadata": {},
   "outputs": [],
   "source": [
    "grid = {'max_depth':[2,3,5,10]}"
   ]
  },
  {
   "cell_type": "code",
   "execution_count": 160,
   "id": "6f2287d4",
   "metadata": {},
   "outputs": [],
   "source": [
    "grid_search = GridSearchCV(\n",
    "    DecisionTreeClassifier(),\n",
    "    param_grid=grid,\n",
    "    cv=10,\n",
    "    scoring=\"accuracy\"\n",
    ")"
   ]
  },
  {
   "cell_type": "code",
   "execution_count": 161,
   "id": "1752cbb0",
   "metadata": {},
   "outputs": [
    {
     "data": {
      "text/plain": [
       "GridSearchCV(cv=10, estimator=DecisionTreeClassifier(),\n",
       "             param_grid={'max_depth': [2, 3, 5, 10]}, scoring='accuracy')"
      ]
     },
     "execution_count": 161,
     "metadata": {},
     "output_type": "execute_result"
    }
   ],
   "source": [
    "grid_search.fit(X_train_processed, y_train_transform)"
   ]
  },
  {
   "cell_type": "code",
   "execution_count": 164,
   "id": "9706fbce",
   "metadata": {},
   "outputs": [
    {
     "data": {
      "text/plain": [
       "0.7214285714285713"
      ]
     },
     "execution_count": 164,
     "metadata": {},
     "output_type": "execute_result"
    }
   ],
   "source": [
    "grid_search.best_score_"
   ]
  },
  {
   "cell_type": "code",
   "execution_count": 165,
   "id": "2a0c5585",
   "metadata": {},
   "outputs": [
    {
     "data": {
      "text/plain": [
       "{'max_depth': 3}"
      ]
     },
     "execution_count": 165,
     "metadata": {},
     "output_type": "execute_result"
    }
   ],
   "source": [
    "grid_search.best_params_"
   ]
  }
 ],
 "metadata": {
  "kernelspec": {
   "display_name": "conda_python3",
   "language": "python",
   "name": "conda_python3"
  },
  "language_info": {
   "codemirror_mode": {
    "name": "ipython",
    "version": 3
   },
   "file_extension": ".py",
   "mimetype": "text/x-python",
   "name": "python",
   "nbconvert_exporter": "python",
   "pygments_lexer": "ipython3",
   "version": "3.8.12"
  }
 },
 "nbformat": 4,
 "nbformat_minor": 5
}
