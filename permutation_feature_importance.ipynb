{
 "cells": [
  {
   "cell_type": "code",
   "execution_count": 59,
   "id": "668e96d2",
   "metadata": {},
   "outputs": [],
   "source": [
    "import pandas as pd\n",
    "from sklearn.inspection import permutation_importance\n",
    "from sklearn.tree import DecisionTreeClassifier\n",
    "from sklearn.model_selection import train_test_split\n",
    "from sklearn.linear_model import LogisticRegression\n",
    "from sklearn.preprocessing import MinMaxScaler\n",
    "import matplotlib.pyplot as plt\n",
    "from sklearn.metrics import accuracy_score\n",
    "from sklearn.model_selection import KFold, StratifiedKFold\n",
    "from sklearn.model_selection import cross_validate"
   ]
  },
  {
   "cell_type": "markdown",
   "id": "6fb856ca",
   "metadata": {},
   "source": [
    "https://scikit-learn.org/stable/modules/permutation_importance.html#:~:text=The%20permutation%20feature%20importance%20is,model%20depends%20on%20the%20feature."
   ]
  },
  {
   "cell_type": "code",
   "execution_count": 2,
   "id": "4b4684a8",
   "metadata": {},
   "outputs": [],
   "source": [
    "train = pd.read_csv(\"s3://german-credit-20221001/datos/train/train.csv\")\n",
    "test = pd.read_csv(\"s3://german-credit-20221001/datos/test/test.csv\")"
   ]
  },
  {
   "cell_type": "code",
   "execution_count": 9,
   "id": "fd7852b5",
   "metadata": {},
   "outputs": [],
   "source": [
    "sub_train, val = train_test_split(train, test_size=0.3, random_state=42)"
   ]
  },
  {
   "cell_type": "code",
   "execution_count": 10,
   "id": "5f6ecfe2",
   "metadata": {},
   "outputs": [
    {
     "data": {
      "text/html": [
       "<div>\n",
       "<style scoped>\n",
       "    .dataframe tbody tr th:only-of-type {\n",
       "        vertical-align: middle;\n",
       "    }\n",
       "\n",
       "    .dataframe tbody tr th {\n",
       "        vertical-align: top;\n",
       "    }\n",
       "\n",
       "    .dataframe thead th {\n",
       "        text-align: right;\n",
       "    }\n",
       "</style>\n",
       "<table border=\"1\" class=\"dataframe\">\n",
       "  <thead>\n",
       "    <tr style=\"text-align: right;\">\n",
       "      <th></th>\n",
       "      <th>Unnamed: 0</th>\n",
       "      <th>Age</th>\n",
       "      <th>Sex</th>\n",
       "      <th>Job</th>\n",
       "      <th>Housing</th>\n",
       "      <th>Saving accounts</th>\n",
       "      <th>Checking account</th>\n",
       "      <th>Credit amount</th>\n",
       "      <th>Duration</th>\n",
       "      <th>Purpose</th>\n",
       "      <th>Risk</th>\n",
       "    </tr>\n",
       "  </thead>\n",
       "  <tbody>\n",
       "    <tr>\n",
       "      <th>357</th>\n",
       "      <td>241</td>\n",
       "      <td>51</td>\n",
       "      <td>male</td>\n",
       "      <td>2</td>\n",
       "      <td>own</td>\n",
       "      <td>little</td>\n",
       "      <td>NaN</td>\n",
       "      <td>1595</td>\n",
       "      <td>6</td>\n",
       "      <td>radio/TV</td>\n",
       "      <td>good</td>\n",
       "    </tr>\n",
       "    <tr>\n",
       "      <th>649</th>\n",
       "      <td>411</td>\n",
       "      <td>35</td>\n",
       "      <td>male</td>\n",
       "      <td>3</td>\n",
       "      <td>own</td>\n",
       "      <td>little</td>\n",
       "      <td>NaN</td>\n",
       "      <td>7253</td>\n",
       "      <td>33</td>\n",
       "      <td>car</td>\n",
       "      <td>good</td>\n",
       "    </tr>\n",
       "    <tr>\n",
       "      <th>291</th>\n",
       "      <td>384</td>\n",
       "      <td>26</td>\n",
       "      <td>male</td>\n",
       "      <td>1</td>\n",
       "      <td>own</td>\n",
       "      <td>moderate</td>\n",
       "      <td>NaN</td>\n",
       "      <td>4272</td>\n",
       "      <td>30</td>\n",
       "      <td>business</td>\n",
       "      <td>good</td>\n",
       "    </tr>\n",
       "    <tr>\n",
       "      <th>420</th>\n",
       "      <td>671</td>\n",
       "      <td>31</td>\n",
       "      <td>male</td>\n",
       "      <td>2</td>\n",
       "      <td>own</td>\n",
       "      <td>moderate</td>\n",
       "      <td>NaN</td>\n",
       "      <td>5742</td>\n",
       "      <td>36</td>\n",
       "      <td>business</td>\n",
       "      <td>good</td>\n",
       "    </tr>\n",
       "    <tr>\n",
       "      <th>177</th>\n",
       "      <td>763</td>\n",
       "      <td>30</td>\n",
       "      <td>male</td>\n",
       "      <td>3</td>\n",
       "      <td>free</td>\n",
       "      <td>NaN</td>\n",
       "      <td>NaN</td>\n",
       "      <td>12680</td>\n",
       "      <td>21</td>\n",
       "      <td>car</td>\n",
       "      <td>bad</td>\n",
       "    </tr>\n",
       "    <tr>\n",
       "      <th>...</th>\n",
       "      <td>...</td>\n",
       "      <td>...</td>\n",
       "      <td>...</td>\n",
       "      <td>...</td>\n",
       "      <td>...</td>\n",
       "      <td>...</td>\n",
       "      <td>...</td>\n",
       "      <td>...</td>\n",
       "      <td>...</td>\n",
       "      <td>...</td>\n",
       "      <td>...</td>\n",
       "    </tr>\n",
       "    <tr>\n",
       "      <th>71</th>\n",
       "      <td>644</td>\n",
       "      <td>32</td>\n",
       "      <td>male</td>\n",
       "      <td>3</td>\n",
       "      <td>own</td>\n",
       "      <td>little</td>\n",
       "      <td>little</td>\n",
       "      <td>1880</td>\n",
       "      <td>18</td>\n",
       "      <td>radio/TV</td>\n",
       "      <td>good</td>\n",
       "    </tr>\n",
       "    <tr>\n",
       "      <th>106</th>\n",
       "      <td>880</td>\n",
       "      <td>38</td>\n",
       "      <td>male</td>\n",
       "      <td>3</td>\n",
       "      <td>own</td>\n",
       "      <td>little</td>\n",
       "      <td>NaN</td>\n",
       "      <td>7814</td>\n",
       "      <td>24</td>\n",
       "      <td>car</td>\n",
       "      <td>good</td>\n",
       "    </tr>\n",
       "    <tr>\n",
       "      <th>270</th>\n",
       "      <td>450</td>\n",
       "      <td>30</td>\n",
       "      <td>male</td>\n",
       "      <td>3</td>\n",
       "      <td>own</td>\n",
       "      <td>NaN</td>\n",
       "      <td>NaN</td>\n",
       "      <td>11054</td>\n",
       "      <td>36</td>\n",
       "      <td>car</td>\n",
       "      <td>good</td>\n",
       "    </tr>\n",
       "    <tr>\n",
       "      <th>435</th>\n",
       "      <td>38</td>\n",
       "      <td>37</td>\n",
       "      <td>male</td>\n",
       "      <td>2</td>\n",
       "      <td>own</td>\n",
       "      <td>little</td>\n",
       "      <td>rich</td>\n",
       "      <td>1225</td>\n",
       "      <td>10</td>\n",
       "      <td>domestic appliances</td>\n",
       "      <td>good</td>\n",
       "    </tr>\n",
       "    <tr>\n",
       "      <th>102</th>\n",
       "      <td>414</td>\n",
       "      <td>35</td>\n",
       "      <td>female</td>\n",
       "      <td>2</td>\n",
       "      <td>own</td>\n",
       "      <td>NaN</td>\n",
       "      <td>little</td>\n",
       "      <td>1381</td>\n",
       "      <td>24</td>\n",
       "      <td>car</td>\n",
       "      <td>bad</td>\n",
       "    </tr>\n",
       "  </tbody>\n",
       "</table>\n",
       "<p>490 rows × 11 columns</p>\n",
       "</div>"
      ],
      "text/plain": [
       "     Unnamed: 0  Age     Sex  Job Housing Saving accounts Checking account  \\\n",
       "357         241   51    male    2     own          little              NaN   \n",
       "649         411   35    male    3     own          little              NaN   \n",
       "291         384   26    male    1     own        moderate              NaN   \n",
       "420         671   31    male    2     own        moderate              NaN   \n",
       "177         763   30    male    3    free             NaN              NaN   \n",
       "..          ...  ...     ...  ...     ...             ...              ...   \n",
       "71          644   32    male    3     own          little           little   \n",
       "106         880   38    male    3     own          little              NaN   \n",
       "270         450   30    male    3     own             NaN              NaN   \n",
       "435          38   37    male    2     own          little             rich   \n",
       "102         414   35  female    2     own             NaN           little   \n",
       "\n",
       "     Credit amount  Duration              Purpose  Risk  \n",
       "357           1595         6             radio/TV  good  \n",
       "649           7253        33                  car  good  \n",
       "291           4272        30             business  good  \n",
       "420           5742        36             business  good  \n",
       "177          12680        21                  car   bad  \n",
       "..             ...       ...                  ...   ...  \n",
       "71            1880        18             radio/TV  good  \n",
       "106           7814        24                  car  good  \n",
       "270          11054        36                  car  good  \n",
       "435           1225        10  domestic appliances  good  \n",
       "102           1381        24                  car   bad  \n",
       "\n",
       "[490 rows x 11 columns]"
      ]
     },
     "execution_count": 10,
     "metadata": {},
     "output_type": "execute_result"
    }
   ],
   "source": [
    "sub_train"
   ]
  },
  {
   "cell_type": "code",
   "execution_count": 12,
   "id": "ec6dd45f",
   "metadata": {},
   "outputs": [],
   "source": [
    "X_train  = sub_train.drop(\"Risk\", axis=1)"
   ]
  },
  {
   "cell_type": "code",
   "execution_count": 14,
   "id": "bdeed5f0",
   "metadata": {},
   "outputs": [],
   "source": [
    "y_train = sub_train[\"Risk\"]"
   ]
  },
  {
   "cell_type": "code",
   "execution_count": 51,
   "id": "33750778",
   "metadata": {},
   "outputs": [],
   "source": [
    "X_train = pd.get_dummies(X_train)"
   ]
  },
  {
   "cell_type": "code",
   "execution_count": 53,
   "id": "f8484e79",
   "metadata": {},
   "outputs": [],
   "source": [
    "k_fold = KFold(n_splits=3)"
   ]
  },
  {
   "cell_type": "code",
   "execution_count": 57,
   "id": "89f79152",
   "metadata": {},
   "outputs": [],
   "source": [
    "for train_indices, val_indices in k_fold.split(X_train, y_train):\n",
    "    X_sub_train = X_train.iloc[train_indices, :]\n",
    "    y_sub_train = y_train.iloc[train_indices]\n",
    "    X_val = X_train.iloc[val_indices, :]\n",
    "    y_val = y_train.iloc[val_indices]"
   ]
  },
  {
   "cell_type": "code",
   "execution_count": 60,
   "id": "d84ae769",
   "metadata": {},
   "outputs": [
    {
     "data": {
      "text/plain": [
       "{'fit_time': array([0.00520992, 0.00453067, 0.00251818]),\n",
       " 'score_time': array([0.00294232, 0.00194716, 0.00156069]),\n",
       " 'test_score': array([0.65243902, 0.73006135, 0.68711656]),\n",
       " 'train_score': array([0.78527607, 0.76146789, 0.76452599])}"
      ]
     },
     "execution_count": 60,
     "metadata": {},
     "output_type": "execute_result"
    }
   ],
   "source": [
    "cross_validate(DecisionTreeClassifier(max_depth=3), X_train, y_train, cv=3,\n",
    "              scoring=\"accuracy\", return_train_score=True)"
   ]
  },
  {
   "cell_type": "code",
   "execution_count": 19,
   "id": "8f75d0aa",
   "metadata": {},
   "outputs": [],
   "source": [
    "X_val = pd.get_dummies(val.drop(\"Risk\", axis=1))\n",
    "y_val = val[\"Risk\"]"
   ]
  },
  {
   "cell_type": "code",
   "execution_count": 27,
   "id": "fcdf428f",
   "metadata": {},
   "outputs": [
    {
     "data": {
      "text/plain": [
       "DecisionTreeClassifier(max_depth=4)"
      ]
     },
     "execution_count": 27,
     "metadata": {},
     "output_type": "execute_result"
    }
   ],
   "source": [
    "model = DecisionTreeClassifier(max_depth=4)\n",
    "model.fit(X_train, y_train)"
   ]
  },
  {
   "cell_type": "code",
   "execution_count": 28,
   "id": "05bd3c9c",
   "metadata": {},
   "outputs": [],
   "source": [
    "r = permutation_importance(model, X_val, y_val, n_repeats=10)"
   ]
  },
  {
   "cell_type": "code",
   "execution_count": 36,
   "id": "3c47f07d",
   "metadata": {},
   "outputs": [
    {
     "data": {
      "text/plain": [
       "array([-0.00952381,  0.        , -0.0047619 , -0.00952381, -0.00952381,\n",
       "       -0.00952381, -0.0047619 , -0.01428571, -0.0047619 , -0.00952381])"
      ]
     },
     "execution_count": 36,
     "metadata": {},
     "output_type": "execute_result"
    }
   ],
   "source": [
    "r[\"importances\"][0]"
   ]
  },
  {
   "cell_type": "code",
   "execution_count": 43,
   "id": "b0b4b1f5",
   "metadata": {},
   "outputs": [
    {
     "data": {
      "image/png": "[encoded data removed]",
      "text/plain": [
       "<Figure size 432x288 with 1 Axes>"
      ]
     },
     "metadata": {
      "needs_background": "light"
     },
     "output_type": "display_data"
    }
   ],
   "source": [
    "plt.bar(x=X_train.columns, height=r[\"importances_mean\"])\n",
    "plt.xticks(rotation=90)\n",
    "plt.show()"
   ]
  },
  {
   "cell_type": "code",
   "execution_count": 44,
   "id": "ba09703a",
   "metadata": {},
   "outputs": [
    {
     "data": {
      "text/plain": [
       "0.0047619047619047224"
      ]
     },
     "execution_count": 44,
     "metadata": {},
     "output_type": "execute_result"
    }
   ],
   "source": [
    "r[\"importances_mean\"].max()"
   ]
  },
  {
   "cell_type": "code",
   "execution_count": 47,
   "id": "d528c882",
   "metadata": {},
   "outputs": [
    {
     "data": {
      "text/plain": [
       "0.638095238095238"
      ]
     },
     "execution_count": 47,
     "metadata": {},
     "output_type": "execute_result"
    }
   ],
   "source": [
    "accuracy_score(model.predict(X_val), y_val)"
   ]
  },
  {
   "cell_type": "code",
   "execution_count": null,
   "id": "dc348d04",
   "metadata": {},
   "outputs": [],
   "source": []
  }
 ],
 "metadata": {
  "kernelspec": {
   "display_name": "conda_pytorch_p38",
   "language": "python",
   "name": "conda_pytorch_p38"
  },
  "language_info": {
   "codemirror_mode": {
    "name": "ipython",
    "version": 3
   },
   "file_extension": ".py",
   "mimetype": "text/x-python",
   "name": "python",
   "nbconvert_exporter": "python",
   "pygments_lexer": "ipython3",
   "version": "3.8.12"
  }
 },
 "nbformat": 4,
 "nbformat_minor": 5
}
