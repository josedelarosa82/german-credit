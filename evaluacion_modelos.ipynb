{
 "cells": [
  {
   "cell_type": "code",
   "execution_count": 329,
   "id": "4e5236a3",
   "metadata": {},
   "outputs": [],
   "source": [
    "import pandas as pd\n",
    "import numpy as np\n",
    "from sklearn.model_selection import train_test_split\n",
    "from sklearn.pipeline import Pipeline\n",
    "import joblib\n",
    "from sklearn.model_selection import cross_validate\n",
    "from sklearn.tree import DecisionTreeClassifier\n",
    "from sklearn.ensemble import RandomForestClassifier\n",
    "from sklearn.svm import SVC\n",
    "from sklearn.preprocessing import OneHotEncoder, MinMaxScaler\n",
    "from sklearn.preprocessing import StandardScaler, RobustScaler\n",
    "from sklearn.impute import SimpleImputer\n",
    "from sklearn.compose import ColumnTransformer\n",
    "import matplotlib.pyplot as plt\n",
    "from sklearn.model_selection import GridSearchCV"
   ]
  },
  {
   "cell_type": "markdown",
   "id": "19c87dcc",
   "metadata": {},
   "source": [
    "## Cargue de datos"
   ]
  },
  {
   "cell_type": "code",
   "execution_count": 330,
   "id": "86606568",
   "metadata": {},
   "outputs": [],
   "source": [
    "train = pd.read_csv(\"s3://german-credit-20221001/datos/train/train.csv\")\n",
    "test = pd.read_csv(\"s3://german-credit-20221001/datos/test/test.csv\")"
   ]
  },
  {
   "cell_type": "markdown",
   "id": "de295f2e",
   "metadata": {},
   "source": [
    "## Creación de pipeline"
   ]
  },
  {
   "cell_type": "code",
   "execution_count": 331,
   "id": "0c3837c8",
   "metadata": {},
   "outputs": [],
   "source": [
    "numeric_pipeline = Pipeline(\n",
    "    [\n",
    "        ('Imputación con la media', SimpleImputer(strategy='mean')),\n",
    "        ('Escalado minmax', MinMaxScaler())\n",
    "    ]\n",
    ")"
   ]
  },
  {
   "cell_type": "code",
   "execution_count": 332,
   "id": "a56926ad",
   "metadata": {},
   "outputs": [],
   "source": [
    "categorical_pipeline = Pipeline(\n",
    "    [\n",
    "        ('Imputación con la moda', SimpleImputer(strategy='most_frequent')),\n",
    "        ('Escalado OneHotEncoder', OneHotEncoder(sparse=False))\n",
    "    ]\n",
    ")"
   ]
  },
  {
   "cell_type": "code",
   "execution_count": 333,
   "id": "83d0fb4d",
   "metadata": {},
   "outputs": [],
   "source": [
    "column_transformer = ColumnTransformer(\n",
    "    [\n",
    "        (\"numeric pipeline\", numeric_pipeline, [0,1,2]),\n",
    "        (\"categorical pipeline\", categorical_pipeline, [3,4,5])\n",
    "    ]\n",
    ")"
   ]
  },
  {
   "cell_type": "code",
   "execution_count": 334,
   "id": "8d3460f6",
   "metadata": {},
   "outputs": [],
   "source": [
    "features = [\"Age\",\"Credit amount\",\"Duration\", \"Sex\",\"Purpose\",\"Housing\"]"
   ]
  },
  {
   "cell_type": "markdown",
   "id": "fc1bc926",
   "metadata": {},
   "source": [
    "## Selección de carácteristicas"
   ]
  },
  {
   "cell_type": "code",
   "execution_count": 335,
   "id": "6744a403",
   "metadata": {},
   "outputs": [],
   "source": [
    "train = train.dropna()"
   ]
  },
  {
   "cell_type": "code",
   "execution_count": 336,
   "id": "b624281b",
   "metadata": {},
   "outputs": [],
   "source": [
    "X_train = train.drop([\"Risk\",\"Unnamed: 0\"], axis=1)"
   ]
  },
  {
   "cell_type": "code",
   "execution_count": 337,
   "id": "f3f67603",
   "metadata": {},
   "outputs": [],
   "source": [
    "y_train = train[\"Risk\"]"
   ]
  },
  {
   "cell_type": "code",
   "execution_count": 338,
   "id": "a12b2649",
   "metadata": {},
   "outputs": [],
   "source": [
    "y_train = (y_train=='good').astype(\"int\")"
   ]
  },
  {
   "cell_type": "code",
   "execution_count": 339,
   "id": "32568671",
   "metadata": {},
   "outputs": [],
   "source": [
    "X_train = X_train.dropna()"
   ]
  },
  {
   "cell_type": "code",
   "execution_count": 340,
   "id": "cf7d0d5a",
   "metadata": {},
   "outputs": [
    {
     "name": "stdout",
     "output_type": "stream",
     "text": [
      "<class 'pandas.core.frame.DataFrame'>\n",
      "Int64Index: 361 entries, 0 to 699\n",
      "Data columns (total 9 columns):\n",
      " #   Column            Non-Null Count  Dtype \n",
      "---  ------            --------------  ----- \n",
      " 0   Age               361 non-null    int64 \n",
      " 1   Sex               361 non-null    object\n",
      " 2   Job               361 non-null    int64 \n",
      " 3   Housing           361 non-null    object\n",
      " 4   Saving accounts   361 non-null    object\n",
      " 5   Checking account  361 non-null    object\n",
      " 6   Credit amount     361 non-null    int64 \n",
      " 7   Duration          361 non-null    int64 \n",
      " 8   Purpose           361 non-null    object\n",
      "dtypes: int64(4), object(5)\n",
      "memory usage: 28.2+ KB\n"
     ]
    }
   ],
   "source": [
    "X_train.info()"
   ]
  },
  {
   "cell_type": "code",
   "execution_count": 341,
   "id": "e75e424d",
   "metadata": {},
   "outputs": [],
   "source": [
    "X_train = pd.get_dummies(X_train)"
   ]
  },
  {
   "cell_type": "code",
   "execution_count": 342,
   "id": "d41b641b",
   "metadata": {},
   "outputs": [
    {
     "data": {
      "text/html": [
       "<div>\n",
       "<style scoped>\n",
       "    .dataframe tbody tr th:only-of-type {\n",
       "        vertical-align: middle;\n",
       "    }\n",
       "\n",
       "    .dataframe tbody tr th {\n",
       "        vertical-align: top;\n",
       "    }\n",
       "\n",
       "    .dataframe thead th {\n",
       "        text-align: right;\n",
       "    }\n",
       "</style>\n",
       "<table border=\"1\" class=\"dataframe\">\n",
       "  <thead>\n",
       "    <tr style=\"text-align: right;\">\n",
       "      <th></th>\n",
       "      <th>Age</th>\n",
       "      <th>Job</th>\n",
       "      <th>Credit amount</th>\n",
       "      <th>Duration</th>\n",
       "      <th>Sex_female</th>\n",
       "      <th>Sex_male</th>\n",
       "      <th>Housing_free</th>\n",
       "      <th>Housing_own</th>\n",
       "      <th>Housing_rent</th>\n",
       "      <th>Saving accounts_little</th>\n",
       "      <th>...</th>\n",
       "      <th>Checking account_moderate</th>\n",
       "      <th>Checking account_rich</th>\n",
       "      <th>Purpose_business</th>\n",
       "      <th>Purpose_car</th>\n",
       "      <th>Purpose_domestic appliances</th>\n",
       "      <th>Purpose_education</th>\n",
       "      <th>Purpose_furniture/equipment</th>\n",
       "      <th>Purpose_radio/TV</th>\n",
       "      <th>Purpose_repairs</th>\n",
       "      <th>Purpose_vacation/others</th>\n",
       "    </tr>\n",
       "  </thead>\n",
       "  <tbody>\n",
       "    <tr>\n",
       "      <th>0</th>\n",
       "      <td>31</td>\n",
       "      <td>2</td>\n",
       "      <td>4473</td>\n",
       "      <td>36</td>\n",
       "      <td>0</td>\n",
       "      <td>1</td>\n",
       "      <td>0</td>\n",
       "      <td>1</td>\n",
       "      <td>0</td>\n",
       "      <td>1</td>\n",
       "      <td>...</td>\n",
       "      <td>0</td>\n",
       "      <td>1</td>\n",
       "      <td>0</td>\n",
       "      <td>0</td>\n",
       "      <td>0</td>\n",
       "      <td>0</td>\n",
       "      <td>0</td>\n",
       "      <td>1</td>\n",
       "      <td>0</td>\n",
       "      <td>0</td>\n",
       "    </tr>\n",
       "    <tr>\n",
       "      <th>5</th>\n",
       "      <td>36</td>\n",
       "      <td>1</td>\n",
       "      <td>4241</td>\n",
       "      <td>24</td>\n",
       "      <td>0</td>\n",
       "      <td>1</td>\n",
       "      <td>0</td>\n",
       "      <td>1</td>\n",
       "      <td>0</td>\n",
       "      <td>1</td>\n",
       "      <td>...</td>\n",
       "      <td>1</td>\n",
       "      <td>0</td>\n",
       "      <td>1</td>\n",
       "      <td>0</td>\n",
       "      <td>0</td>\n",
       "      <td>0</td>\n",
       "      <td>0</td>\n",
       "      <td>0</td>\n",
       "      <td>0</td>\n",
       "      <td>0</td>\n",
       "    </tr>\n",
       "    <tr>\n",
       "      <th>6</th>\n",
       "      <td>35</td>\n",
       "      <td>3</td>\n",
       "      <td>6948</td>\n",
       "      <td>36</td>\n",
       "      <td>0</td>\n",
       "      <td>1</td>\n",
       "      <td>0</td>\n",
       "      <td>0</td>\n",
       "      <td>1</td>\n",
       "      <td>1</td>\n",
       "      <td>...</td>\n",
       "      <td>1</td>\n",
       "      <td>0</td>\n",
       "      <td>0</td>\n",
       "      <td>1</td>\n",
       "      <td>0</td>\n",
       "      <td>0</td>\n",
       "      <td>0</td>\n",
       "      <td>0</td>\n",
       "      <td>0</td>\n",
       "      <td>0</td>\n",
       "    </tr>\n",
       "    <tr>\n",
       "      <th>7</th>\n",
       "      <td>24</td>\n",
       "      <td>2</td>\n",
       "      <td>2145</td>\n",
       "      <td>36</td>\n",
       "      <td>0</td>\n",
       "      <td>1</td>\n",
       "      <td>0</td>\n",
       "      <td>1</td>\n",
       "      <td>0</td>\n",
       "      <td>1</td>\n",
       "      <td>...</td>\n",
       "      <td>0</td>\n",
       "      <td>0</td>\n",
       "      <td>1</td>\n",
       "      <td>0</td>\n",
       "      <td>0</td>\n",
       "      <td>0</td>\n",
       "      <td>0</td>\n",
       "      <td>0</td>\n",
       "      <td>0</td>\n",
       "      <td>0</td>\n",
       "    </tr>\n",
       "    <tr>\n",
       "      <th>10</th>\n",
       "      <td>30</td>\n",
       "      <td>2</td>\n",
       "      <td>639</td>\n",
       "      <td>12</td>\n",
       "      <td>0</td>\n",
       "      <td>1</td>\n",
       "      <td>0</td>\n",
       "      <td>1</td>\n",
       "      <td>0</td>\n",
       "      <td>1</td>\n",
       "      <td>...</td>\n",
       "      <td>1</td>\n",
       "      <td>0</td>\n",
       "      <td>0</td>\n",
       "      <td>0</td>\n",
       "      <td>0</td>\n",
       "      <td>0</td>\n",
       "      <td>0</td>\n",
       "      <td>0</td>\n",
       "      <td>1</td>\n",
       "      <td>0</td>\n",
       "    </tr>\n",
       "    <tr>\n",
       "      <th>...</th>\n",
       "      <td>...</td>\n",
       "      <td>...</td>\n",
       "      <td>...</td>\n",
       "      <td>...</td>\n",
       "      <td>...</td>\n",
       "      <td>...</td>\n",
       "      <td>...</td>\n",
       "      <td>...</td>\n",
       "      <td>...</td>\n",
       "      <td>...</td>\n",
       "      <td>...</td>\n",
       "      <td>...</td>\n",
       "      <td>...</td>\n",
       "      <td>...</td>\n",
       "      <td>...</td>\n",
       "      <td>...</td>\n",
       "      <td>...</td>\n",
       "      <td>...</td>\n",
       "      <td>...</td>\n",
       "      <td>...</td>\n",
       "      <td>...</td>\n",
       "    </tr>\n",
       "    <tr>\n",
       "      <th>692</th>\n",
       "      <td>26</td>\n",
       "      <td>2</td>\n",
       "      <td>4788</td>\n",
       "      <td>48</td>\n",
       "      <td>0</td>\n",
       "      <td>1</td>\n",
       "      <td>0</td>\n",
       "      <td>1</td>\n",
       "      <td>0</td>\n",
       "      <td>1</td>\n",
       "      <td>...</td>\n",
       "      <td>0</td>\n",
       "      <td>0</td>\n",
       "      <td>0</td>\n",
       "      <td>1</td>\n",
       "      <td>0</td>\n",
       "      <td>0</td>\n",
       "      <td>0</td>\n",
       "      <td>0</td>\n",
       "      <td>0</td>\n",
       "      <td>0</td>\n",
       "    </tr>\n",
       "    <tr>\n",
       "      <th>693</th>\n",
       "      <td>36</td>\n",
       "      <td>2</td>\n",
       "      <td>1275</td>\n",
       "      <td>24</td>\n",
       "      <td>0</td>\n",
       "      <td>1</td>\n",
       "      <td>0</td>\n",
       "      <td>1</td>\n",
       "      <td>0</td>\n",
       "      <td>0</td>\n",
       "      <td>...</td>\n",
       "      <td>0</td>\n",
       "      <td>1</td>\n",
       "      <td>1</td>\n",
       "      <td>0</td>\n",
       "      <td>0</td>\n",
       "      <td>0</td>\n",
       "      <td>0</td>\n",
       "      <td>0</td>\n",
       "      <td>0</td>\n",
       "      <td>0</td>\n",
       "    </tr>\n",
       "    <tr>\n",
       "      <th>694</th>\n",
       "      <td>37</td>\n",
       "      <td>1</td>\n",
       "      <td>1274</td>\n",
       "      <td>12</td>\n",
       "      <td>1</td>\n",
       "      <td>0</td>\n",
       "      <td>0</td>\n",
       "      <td>1</td>\n",
       "      <td>0</td>\n",
       "      <td>1</td>\n",
       "      <td>...</td>\n",
       "      <td>0</td>\n",
       "      <td>0</td>\n",
       "      <td>0</td>\n",
       "      <td>1</td>\n",
       "      <td>0</td>\n",
       "      <td>0</td>\n",
       "      <td>0</td>\n",
       "      <td>0</td>\n",
       "      <td>0</td>\n",
       "      <td>0</td>\n",
       "    </tr>\n",
       "    <tr>\n",
       "      <th>695</th>\n",
       "      <td>41</td>\n",
       "      <td>1</td>\n",
       "      <td>5954</td>\n",
       "      <td>42</td>\n",
       "      <td>1</td>\n",
       "      <td>0</td>\n",
       "      <td>0</td>\n",
       "      <td>1</td>\n",
       "      <td>0</td>\n",
       "      <td>1</td>\n",
       "      <td>...</td>\n",
       "      <td>1</td>\n",
       "      <td>0</td>\n",
       "      <td>1</td>\n",
       "      <td>0</td>\n",
       "      <td>0</td>\n",
       "      <td>0</td>\n",
       "      <td>0</td>\n",
       "      <td>0</td>\n",
       "      <td>0</td>\n",
       "      <td>0</td>\n",
       "    </tr>\n",
       "    <tr>\n",
       "      <th>699</th>\n",
       "      <td>37</td>\n",
       "      <td>2</td>\n",
       "      <td>3676</td>\n",
       "      <td>6</td>\n",
       "      <td>0</td>\n",
       "      <td>1</td>\n",
       "      <td>0</td>\n",
       "      <td>0</td>\n",
       "      <td>1</td>\n",
       "      <td>1</td>\n",
       "      <td>...</td>\n",
       "      <td>0</td>\n",
       "      <td>0</td>\n",
       "      <td>0</td>\n",
       "      <td>1</td>\n",
       "      <td>0</td>\n",
       "      <td>0</td>\n",
       "      <td>0</td>\n",
       "      <td>0</td>\n",
       "      <td>0</td>\n",
       "      <td>0</td>\n",
       "    </tr>\n",
       "  </tbody>\n",
       "</table>\n",
       "<p>361 rows × 24 columns</p>\n",
       "</div>"
      ],
      "text/plain": [
       "     Age  Job  Credit amount  Duration  Sex_female  Sex_male  Housing_free  \\\n",
       "0     31    2           4473        36           0         1             0   \n",
       "5     36    1           4241        24           0         1             0   \n",
       "6     35    3           6948        36           0         1             0   \n",
       "7     24    2           2145        36           0         1             0   \n",
       "10    30    2            639        12           0         1             0   \n",
       "..   ...  ...            ...       ...         ...       ...           ...   \n",
       "692   26    2           4788        48           0         1             0   \n",
       "693   36    2           1275        24           0         1             0   \n",
       "694   37    1           1274        12           1         0             0   \n",
       "695   41    1           5954        42           1         0             0   \n",
       "699   37    2           3676         6           0         1             0   \n",
       "\n",
       "     Housing_own  Housing_rent  Saving accounts_little  ...  \\\n",
       "0              1             0                       1  ...   \n",
       "5              1             0                       1  ...   \n",
       "6              0             1                       1  ...   \n",
       "7              1             0                       1  ...   \n",
       "10             1             0                       1  ...   \n",
       "..           ...           ...                     ...  ...   \n",
       "692            1             0                       1  ...   \n",
       "693            1             0                       0  ...   \n",
       "694            1             0                       1  ...   \n",
       "695            1             0                       1  ...   \n",
       "699            0             1                       1  ...   \n",
       "\n",
       "     Checking account_moderate  Checking account_rich  Purpose_business  \\\n",
       "0                            0                      1                 0   \n",
       "5                            1                      0                 1   \n",
       "6                            1                      0                 0   \n",
       "7                            0                      0                 1   \n",
       "10                           1                      0                 0   \n",
       "..                         ...                    ...               ...   \n",
       "692                          0                      0                 0   \n",
       "693                          0                      1                 1   \n",
       "694                          0                      0                 0   \n",
       "695                          1                      0                 1   \n",
       "699                          0                      0                 0   \n",
       "\n",
       "     Purpose_car  Purpose_domestic appliances  Purpose_education  \\\n",
       "0              0                            0                  0   \n",
       "5              0                            0                  0   \n",
       "6              1                            0                  0   \n",
       "7              0                            0                  0   \n",
       "10             0                            0                  0   \n",
       "..           ...                          ...                ...   \n",
       "692            1                            0                  0   \n",
       "693            0                            0                  0   \n",
       "694            1                            0                  0   \n",
       "695            0                            0                  0   \n",
       "699            1                            0                  0   \n",
       "\n",
       "     Purpose_furniture/equipment  Purpose_radio/TV  Purpose_repairs  \\\n",
       "0                              0                 1                0   \n",
       "5                              0                 0                0   \n",
       "6                              0                 0                0   \n",
       "7                              0                 0                0   \n",
       "10                             0                 0                1   \n",
       "..                           ...               ...              ...   \n",
       "692                            0                 0                0   \n",
       "693                            0                 0                0   \n",
       "694                            0                 0                0   \n",
       "695                            0                 0                0   \n",
       "699                            0                 0                0   \n",
       "\n",
       "     Purpose_vacation/others  \n",
       "0                          0  \n",
       "5                          0  \n",
       "6                          0  \n",
       "7                          0  \n",
       "10                         0  \n",
       "..                       ...  \n",
       "692                        0  \n",
       "693                        0  \n",
       "694                        0  \n",
       "695                        0  \n",
       "699                        0  \n",
       "\n",
       "[361 rows x 24 columns]"
      ]
     },
     "execution_count": 342,
     "metadata": {},
     "output_type": "execute_result"
    }
   ],
   "source": [
    "X_train"
   ]
  },
  {
   "cell_type": "markdown",
   "id": "a87c9e17",
   "metadata": {},
   "source": [
    "## Decision tree classifier"
   ]
  },
  {
   "cell_type": "code",
   "execution_count": 343,
   "id": "cd981ad7",
   "metadata": {},
   "outputs": [],
   "source": [
    "model = DecisionTreeClassifier()"
   ]
  },
  {
   "cell_type": "code",
   "execution_count": 344,
   "id": "e9741d37",
   "metadata": {},
   "outputs": [
    {
     "data": {
      "text/plain": [
       "DecisionTreeClassifier()"
      ]
     },
     "execution_count": 344,
     "metadata": {},
     "output_type": "execute_result"
    }
   ],
   "source": [
    "model.fit(X_train,y_train)"
   ]
  },
  {
   "cell_type": "code",
   "execution_count": 345,
   "id": "0b743f97",
   "metadata": {},
   "outputs": [
    {
     "data": {
      "text/plain": [
       "array([0.12774559, 0.04064761, 0.33895049, 0.18351519, 0.0182134 ,\n",
       "       0.01025807, 0.03182209, 0.0056199 , 0.02397041, 0.0056199 ,\n",
       "       0.02410856, 0.01864187, 0.01925574, 0.02505021, 0.02247961,\n",
       "       0.00599456, 0.        , 0.05723785, 0.        , 0.00760165,\n",
       "       0.01406313, 0.01092759, 0.00827658, 0.        ])"
      ]
     },
     "execution_count": 345,
     "metadata": {},
     "output_type": "execute_result"
    }
   ],
   "source": [
    "## Devuelve la variación de la entropia o en indice gini y el que tenga más es relevante\n",
    "model.feature_importances_"
   ]
  },
  {
   "cell_type": "code",
   "execution_count": 346,
   "id": "dd760ded",
   "metadata": {},
   "outputs": [
    {
     "data": {
      "text/plain": [
       "Index(['Age', 'Job', 'Credit amount', 'Duration', 'Sex_female', 'Sex_male',\n",
       "       'Housing_free', 'Housing_own', 'Housing_rent', 'Saving accounts_little',\n",
       "       'Saving accounts_moderate', 'Saving accounts_quite rich',\n",
       "       'Saving accounts_rich', 'Checking account_little',\n",
       "       'Checking account_moderate', 'Checking account_rich',\n",
       "       'Purpose_business', 'Purpose_car', 'Purpose_domestic appliances',\n",
       "       'Purpose_education', 'Purpose_furniture/equipment', 'Purpose_radio/TV',\n",
       "       'Purpose_repairs', 'Purpose_vacation/others'],\n",
       "      dtype='object')"
      ]
     },
     "execution_count": 346,
     "metadata": {},
     "output_type": "execute_result"
    }
   ],
   "source": [
    "X_train.columns"
   ]
  },
  {
   "cell_type": "code",
   "execution_count": 347,
   "id": "c1be150d",
   "metadata": {},
   "outputs": [
    {
     "data": {
      "image/png": "[encoded data removed]",
      "text/plain": [
       "<Figure size 432x288 with 1 Axes>"
      ]
     },
     "metadata": {
      "needs_background": "light"
     },
     "output_type": "display_data"
    }
   ],
   "source": [
    "plt.bar(x=X_train.columns, height=model.feature_importances_)\n",
    "plt.xticks(rotation=90)\n",
    "plt.show()"
   ]
  },
  {
   "cell_type": "code",
   "execution_count": 348,
   "id": "62b9ba57",
   "metadata": {},
   "outputs": [],
   "source": [
    "ordered_columns = X_train.columns[np.argsort(model.feature_importances_)[::-1]]"
   ]
  },
  {
   "cell_type": "code",
   "execution_count": 349,
   "id": "61270397",
   "metadata": {},
   "outputs": [],
   "source": [
    "ordered_importance = np.sort(model.feature_importances_)[::-1]"
   ]
  },
  {
   "cell_type": "code",
   "execution_count": 350,
   "id": "7a69fdc3",
   "metadata": {},
   "outputs": [
    {
     "data": {
      "image/png": "[encoded data removed]",
      "text/plain": [
       "<Figure size 432x288 with 1 Axes>"
      ]
     },
     "metadata": {
      "needs_background": "light"
     },
     "output_type": "display_data"
    }
   ],
   "source": [
    "plt.bar(x=ordered_columns, height=ordered_importance)\n",
    "plt.xticks(rotation=90)\n",
    "plt.show()"
   ]
  },
  {
   "cell_type": "markdown",
   "id": "b9c9eb48",
   "metadata": {},
   "source": [
    "### Regresión logística"
   ]
  },
  {
   "cell_type": "code",
   "execution_count": 351,
   "id": "79421e74",
   "metadata": {},
   "outputs": [],
   "source": [
    "from sklearn.linear_model import LogisticRegression"
   ]
  },
  {
   "cell_type": "code",
   "execution_count": 352,
   "id": "f115130a",
   "metadata": {},
   "outputs": [],
   "source": [
    "X_train_scaled = MinMaxScaler().fit_transform(X_train)"
   ]
  },
  {
   "cell_type": "code",
   "execution_count": 353,
   "id": "e09fb806",
   "metadata": {},
   "outputs": [],
   "source": [
    "model = LogisticRegression()"
   ]
  },
  {
   "cell_type": "code",
   "execution_count": 354,
   "id": "200efcc5",
   "metadata": {},
   "outputs": [
    {
     "data": {
      "text/plain": [
       "LogisticRegression()"
      ]
     },
     "execution_count": 354,
     "metadata": {},
     "output_type": "execute_result"
    }
   ],
   "source": [
    "model.fit(X_train_scaled, y_train)"
   ]
  },
  {
   "cell_type": "code",
   "execution_count": 355,
   "id": "89c12a95",
   "metadata": {},
   "outputs": [
    {
     "data": {
      "text/plain": [
       "array([[ 0.47424606,  0.46040332, -0.92624159, -2.03116232, -0.19687034,\n",
       "         0.19696162,  0.06881668,  0.14613817, -0.21486357, -0.46689979,\n",
       "        -0.41031105,  0.29891103,  0.57839108, -0.38283643, -0.16388134,\n",
       "         0.54680905,  0.28173634,  0.11494351, -0.14531633, -0.93147024,\n",
       "         0.17853055,  0.27162217,  0.07962265,  0.15042262]])"
      ]
     },
     "execution_count": 355,
     "metadata": {},
     "output_type": "execute_result"
    }
   ],
   "source": [
    "model.coef_"
   ]
  },
  {
   "cell_type": "code",
   "execution_count": 356,
   "id": "833426e1",
   "metadata": {},
   "outputs": [
    {
     "data": {
      "image/png": "[encoded data removed]",
      "text/plain": [
       "<Figure size 432x288 with 1 Axes>"
      ]
     },
     "metadata": {
      "needs_background": "light"
     },
     "output_type": "display_data"
    }
   ],
   "source": [
    "plt.bar(x=X_train.columns, height=model.coef_[0])\n",
    "plt.xticks(rotation=90)\n",
    "plt.show()"
   ]
  },
  {
   "cell_type": "markdown",
   "id": "489a1f13",
   "metadata": {},
   "source": [
    "### Evaluación de modelos"
   ]
  },
  {
   "cell_type": "code",
   "execution_count": 357,
   "id": "7cc13fb0",
   "metadata": {},
   "outputs": [],
   "source": [
    "train = pd.read_csv(\"s3://german-credit-20221001/datos/train/train.csv\")\n",
    "X_train = train.drop([\"Risk\",\"Unnamed: 0\"], axis=1)\n",
    "y_train = train[\"Risk\"]\n",
    "y_train = (y_train=='good').astype(\"int\")"
   ]
  },
  {
   "cell_type": "markdown",
   "id": "11acd89e",
   "metadata": {},
   "source": [
    "## Decision tree classifier"
   ]
  },
  {
   "cell_type": "code",
   "execution_count": 358,
   "id": "dec48d04",
   "metadata": {},
   "outputs": [],
   "source": [
    "final_pipeline = Pipeline(\n",
    "    [\n",
    "        ('Preprocesamiento', column_transformer),\n",
    "        ('Modelo de predicción de Árbol', DecisionTreeClassifier())\n",
    "    ]\n",
    ")"
   ]
  },
  {
   "cell_type": "code",
   "execution_count": 359,
   "id": "3f22ac7d",
   "metadata": {},
   "outputs": [],
   "source": [
    "X_train = train[features]"
   ]
  },
  {
   "cell_type": "code",
   "execution_count": 360,
   "id": "5f10ba20",
   "metadata": {},
   "outputs": [],
   "source": [
    "results = cross_validate(final_pipeline,\n",
    "                        X_train, y_train, cv=10, return_train_score=True,\n",
    "                        scoring=[\"accuracy\",\"f1\"])"
   ]
  },
  {
   "cell_type": "code",
   "execution_count": 361,
   "id": "64abe47b",
   "metadata": {},
   "outputs": [
    {
     "name": "stdout",
     "output_type": "stream",
     "text": [
      "train:  1.0 +- 0.0\n",
      "test:  0.6442857142857142 +- 0.04354214472608048\n"
     ]
    }
   ],
   "source": [
    "print(\"train: \",results[\"train_accuracy\"].mean(), \"+-\", results[\"train_accuracy\"].std())\n",
    "print(\"test: \",results[\"test_accuracy\"].mean(), \"+-\", results[\"test_accuracy\"].std())"
   ]
  },
  {
   "cell_type": "markdown",
   "id": "459b4108",
   "metadata": {},
   "source": [
    "## SVM"
   ]
  },
  {
   "cell_type": "code",
   "execution_count": 362,
   "id": "113f475d",
   "metadata": {},
   "outputs": [],
   "source": [
    "final_pipeline = Pipeline(\n",
    "    [\n",
    "        ('Preprocesamiento', column_transformer),\n",
    "        ('Modelo de predicción de Random forest', SVC())\n",
    "    ]\n",
    ")"
   ]
  },
  {
   "cell_type": "code",
   "execution_count": 363,
   "id": "93c4db1e",
   "metadata": {},
   "outputs": [],
   "source": [
    "results = cross_validate(final_pipeline,\n",
    "                        X_train, y_train, cv=10, return_train_score=True,\n",
    "                        scoring=[\"accuracy\",\"f1\"])"
   ]
  },
  {
   "cell_type": "code",
   "execution_count": 364,
   "id": "01fa270b",
   "metadata": {},
   "outputs": [
    {
     "name": "stdout",
     "output_type": "stream",
     "text": [
      "train:  0.7284126984126985 +- 0.004679175546978951\n",
      "test:  0.7085714285714285 +- 0.011428571428571436\n"
     ]
    }
   ],
   "source": [
    "print(\"train: \",results[\"train_accuracy\"].mean(), \"+-\", results[\"train_accuracy\"].std())\n",
    "print(\"test: \",results[\"test_accuracy\"].mean(), \"+-\", results[\"test_accuracy\"].std())"
   ]
  },
  {
   "cell_type": "markdown",
   "id": "97dc760d",
   "metadata": {},
   "source": [
    "## Random forest"
   ]
  },
  {
   "cell_type": "code",
   "execution_count": 365,
   "id": "41b05717",
   "metadata": {},
   "outputs": [],
   "source": [
    "final_pipeline = Pipeline(\n",
    "    [\n",
    "        ('Preprocesamiento', column_transformer),\n",
    "        ('Modelo de predicción de Random forest', RandomForestClassifier())\n",
    "    ]\n",
    ")"
   ]
  },
  {
   "cell_type": "code",
   "execution_count": 366,
   "id": "b99fe16d",
   "metadata": {},
   "outputs": [],
   "source": [
    "results = cross_validate(final_pipeline,\n",
    "                        X_train, y_train, cv=10, return_train_score=True,\n",
    "                        scoring=[\"accuracy\",\"f1\"])"
   ]
  },
  {
   "cell_type": "code",
   "execution_count": 367,
   "id": "530da2d4",
   "metadata": {},
   "outputs": [
    {
     "name": "stdout",
     "output_type": "stream",
     "text": [
      "train:  1.0 +- 0.0\n",
      "test:  0.68 +- 0.05078968238466051\n"
     ]
    }
   ],
   "source": [
    "print(\"train: \",results[\"train_accuracy\"].mean(), \"+-\", results[\"train_accuracy\"].std())\n",
    "print(\"test: \",results[\"test_accuracy\"].mean(), \"+-\", results[\"test_accuracy\"].std())"
   ]
  },
  {
   "cell_type": "markdown",
   "id": "19d2db13",
   "metadata": {},
   "source": [
    "## Ajuste de hiperparámetros Random Forest"
   ]
  },
  {
   "cell_type": "code",
   "execution_count": 368,
   "id": "6fe88634",
   "metadata": {},
   "outputs": [],
   "source": [
    "#Probar con 50, 100 y 200 arboles con alturas 2,3,5,10 con 10 experimentos\n",
    "grid = {'max_depth':[2,3,5,10], 'n_estimators':[50,100, 200]}"
   ]
  },
  {
   "cell_type": "code",
   "execution_count": 369,
   "id": "95eec5fa",
   "metadata": {},
   "outputs": [],
   "source": [
    "grid_search = GridSearchCV(\n",
    "    RandomForestClassifier(),\n",
    "    param_grid=grid,\n",
    "    cv=10,\n",
    "    scoring=\"accuracy\"\n",
    ")"
   ]
  },
  {
   "cell_type": "code",
   "execution_count": 370,
   "id": "6572186f",
   "metadata": {},
   "outputs": [],
   "source": [
    "X_train_transformed = column_transformer.fit_transform(X_train)"
   ]
  },
  {
   "cell_type": "code",
   "execution_count": 371,
   "id": "3df9b856",
   "metadata": {},
   "outputs": [
    {
     "data": {
      "text/plain": [
       "GridSearchCV(cv=10, estimator=RandomForestClassifier(),\n",
       "             param_grid={'max_depth': [2, 3, 5, 10],\n",
       "                         'n_estimators': [50, 100, 200]},\n",
       "             scoring='accuracy')"
      ]
     },
     "execution_count": 371,
     "metadata": {},
     "output_type": "execute_result"
    }
   ],
   "source": [
    "grid_search.fit(X_train_transformed, y_train)"
   ]
  },
  {
   "cell_type": "code",
   "execution_count": 372,
   "id": "4180057b",
   "metadata": {},
   "outputs": [
    {
     "data": {
      "text/plain": [
       "0.7171428571428572"
      ]
     },
     "execution_count": 372,
     "metadata": {},
     "output_type": "execute_result"
    }
   ],
   "source": [
    "#Mejor score con los hiperparámetros\n",
    "grid_search.best_score_"
   ]
  },
  {
   "cell_type": "code",
   "execution_count": 373,
   "id": "1dbae959",
   "metadata": {},
   "outputs": [
    {
     "data": {
      "text/plain": [
       "{'max_depth': 5, 'n_estimators': 200}"
      ]
     },
     "execution_count": 373,
     "metadata": {},
     "output_type": "execute_result"
    }
   ],
   "source": [
    "#Mejores hiperparámetros\n",
    "grid_search.best_params_"
   ]
  },
  {
   "cell_type": "code",
   "execution_count": 374,
   "id": "00656ff5",
   "metadata": {},
   "outputs": [
    {
     "data": {
      "text/plain": [
       "{'mean_fit_time': array([0.0863035 , 0.15297546, 0.30115681, 0.07814777, 0.15477283,\n",
       "        0.30785384, 0.08141913, 0.16098628, 0.32153447, 0.089399  ,\n",
       "        0.17540329, 0.35035195]),\n",
       " 'std_fit_time': array([0.00093298, 0.00365056, 0.00136593, 0.00068894, 0.00100534,\n",
       "        0.00158859, 0.00065366, 0.0010512 , 0.00159974, 0.00104025,\n",
       "        0.00096639, 0.00148661]),\n",
       " 'mean_score_time': array([0.00519834, 0.00835099, 0.01581118, 0.00450945, 0.00832782,\n",
       "        0.0159687 , 0.0045866 , 0.00846426, 0.01608074, 0.00487959,\n",
       "        0.00895243, 0.01706643]),\n",
       " 'std_score_time': array([3.23880845e-04, 2.30100418e-04, 2.45382631e-04, 2.68889230e-05,\n",
       "        1.18382553e-04, 5.22040029e-04, 3.58821467e-05, 9.32891442e-05,\n",
       "        1.52681488e-04, 8.97102457e-05, 1.28118780e-04, 1.81114554e-04]),\n",
       " 'param_max_depth': masked_array(data=[2, 2, 2, 3, 3, 3, 5, 5, 5, 10, 10, 10],\n",
       "              mask=[False, False, False, False, False, False, False, False,\n",
       "                    False, False, False, False],\n",
       "        fill_value='?',\n",
       "             dtype=object),\n",
       " 'param_n_estimators': masked_array(data=[50, 100, 200, 50, 100, 200, 50, 100, 200, 50, 100, 200],\n",
       "              mask=[False, False, False, False, False, False, False, False,\n",
       "                    False, False, False, False],\n",
       "        fill_value='?',\n",
       "             dtype=object),\n",
       " 'params': [{'max_depth': 2, 'n_estimators': 50},\n",
       "  {'max_depth': 2, 'n_estimators': 100},\n",
       "  {'max_depth': 2, 'n_estimators': 200},\n",
       "  {'max_depth': 3, 'n_estimators': 50},\n",
       "  {'max_depth': 3, 'n_estimators': 100},\n",
       "  {'max_depth': 3, 'n_estimators': 200},\n",
       "  {'max_depth': 5, 'n_estimators': 50},\n",
       "  {'max_depth': 5, 'n_estimators': 100},\n",
       "  {'max_depth': 5, 'n_estimators': 200},\n",
       "  {'max_depth': 10, 'n_estimators': 50},\n",
       "  {'max_depth': 10, 'n_estimators': 100},\n",
       "  {'max_depth': 10, 'n_estimators': 200}],\n",
       " 'split0_test_score': array([0.7       , 0.71428571, 0.71428571, 0.72857143, 0.72857143,\n",
       "        0.71428571, 0.68571429, 0.7       , 0.72857143, 0.67142857,\n",
       "        0.72857143, 0.67142857]),\n",
       " 'split1_test_score': array([0.71428571, 0.71428571, 0.71428571, 0.71428571, 0.74285714,\n",
       "        0.72857143, 0.74285714, 0.74285714, 0.74285714, 0.75714286,\n",
       "        0.8       , 0.78571429]),\n",
       " 'split2_test_score': array([0.71428571, 0.7       , 0.7       , 0.71428571, 0.71428571,\n",
       "        0.71428571, 0.67142857, 0.71428571, 0.72857143, 0.6       ,\n",
       "        0.61428571, 0.62857143]),\n",
       " 'split3_test_score': array([0.7       , 0.7       , 0.71428571, 0.7       , 0.71428571,\n",
       "        0.71428571, 0.72857143, 0.71428571, 0.71428571, 0.67142857,\n",
       "        0.65714286, 0.68571429]),\n",
       " 'split4_test_score': array([0.7       , 0.7       , 0.7       , 0.71428571, 0.7       ,\n",
       "        0.7       , 0.71428571, 0.74285714, 0.71428571, 0.7       ,\n",
       "        0.68571429, 0.68571429]),\n",
       " 'split5_test_score': array([0.7       , 0.7       , 0.71428571, 0.7       , 0.68571429,\n",
       "        0.7       , 0.7       , 0.67142857, 0.67142857, 0.68571429,\n",
       "        0.67142857, 0.65714286]),\n",
       " 'split6_test_score': array([0.7       , 0.72857143, 0.72857143, 0.71428571, 0.71428571,\n",
       "        0.71428571, 0.71428571, 0.72857143, 0.72857143, 0.77142857,\n",
       "        0.74285714, 0.72857143]),\n",
       " 'split7_test_score': array([0.71428571, 0.7       , 0.7       , 0.72857143, 0.71428571,\n",
       "        0.71428571, 0.7       , 0.71428571, 0.71428571, 0.68571429,\n",
       "        0.71428571, 0.67142857]),\n",
       " 'split8_test_score': array([0.68571429, 0.68571429, 0.67142857, 0.65714286, 0.68571429,\n",
       "        0.68571429, 0.68571429, 0.68571429, 0.68571429, 0.68571429,\n",
       "        0.7       , 0.68571429]),\n",
       " 'split9_test_score': array([0.7       , 0.7       , 0.7       , 0.71428571, 0.72857143,\n",
       "        0.72857143, 0.72857143, 0.71428571, 0.74285714, 0.77142857,\n",
       "        0.75714286, 0.78571429]),\n",
       " 'mean_test_score': array([0.70285714, 0.70428571, 0.70571429, 0.70857143, 0.71285714,\n",
       "        0.71142857, 0.70714286, 0.71285714, 0.71714286, 0.7       ,\n",
       "        0.70714286, 0.69857143]),\n",
       " 'std_test_score': array([0.00857143, 0.0111575 , 0.01456863, 0.01937809, 0.01743794,\n",
       "        0.012454  , 0.02142857, 0.02161821, 0.02194613, 0.05070926,\n",
       "        0.05080977, 0.0496724 ]),\n",
       " 'rank_test_score': array([10,  9,  8,  5,  2,  4,  6,  2,  1, 11,  6, 12], dtype=int32)}"
      ]
     },
     "execution_count": 374,
     "metadata": {},
     "output_type": "execute_result"
    }
   ],
   "source": [
    "#Se muestran los resultados de los experimentos\n",
    "grid_search.cv_results_"
   ]
  },
  {
   "cell_type": "code",
   "execution_count": 375,
   "id": "8d347b86",
   "metadata": {},
   "outputs": [
    {
     "data": {
      "text/plain": [
       "['rf_processing.joblib']"
      ]
     },
     "execution_count": 375,
     "metadata": {},
     "output_type": "execute_result"
    }
   ],
   "source": [
    "#Exportando el modelo\n",
    "joblib.dump(final_pipeline,'rf_processing.joblib')"
   ]
  }
 ],
 "metadata": {
  "kernelspec": {
   "display_name": "conda_python3",
   "language": "python",
   "name": "conda_python3"
  },
  "language_info": {
   "codemirror_mode": {
    "name": "ipython",
    "version": 3
   },
   "file_extension": ".py",
   "mimetype": "text/x-python",
   "name": "python",
   "nbconvert_exporter": "python",
   "pygments_lexer": "ipython3",
   "version": "3.8.12"
  }
 },
 "nbformat": 4,
 "nbformat_minor": 5
}
